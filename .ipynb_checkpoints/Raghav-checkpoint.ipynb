{
 "cells": [
  {
   "cell_type": "code",
   "execution_count": 2,
   "id": "5050562a",
   "metadata": {},
   "outputs": [],
   "source": [
    "import backtrader as bt\n",
    "from backtester import backtest15,backtestday\n",
    "import numpy as np\n",
    "\n",
    "import pandas as pd\n",
    "\n",
    "import logging\n",
    "logging.basicConfig(filename=\"log.txt\", level=logging.DEBUG)"
   ]
  },
  {
   "cell_type": "code",
   "execution_count": 3,
   "id": "11d6fb23",
   "metadata": {},
   "outputs": [],
   "source": [
    "corrs = []\n",
    "\n",
    "class trial(bt.Strategy):\n",
    "    params = (('fast',50),('slow',200),('order_percentage',0.95),('ticker','SPY'))\n",
    "\n",
    "    \n",
    "    def log(self, txt):\n",
    "        date = self.data.datetime.date(0)\n",
    "        time = self.data.datetime.time()\n",
    "        logging.debug('%s-%s, %s' % (date.isoformat(), time, txt))\n",
    "        \n",
    "        \n",
    "    def notify_order(self, order):\n",
    "        \n",
    "        if order.status in [order.Submitted, order.Accepted]:\n",
    "            return\n",
    "\n",
    "        if order.status in [order.Completed]:\n",
    "            if order.isbuy():\n",
    "                self.log(\"Buy EXECUTED {}\".format(order.executed.price))\n",
    "            elif order.issell():\n",
    "                self.log(\"Sell EXECUTED {}\".format(order.executed.price))\n",
    "\n",
    "                \n",
    "    def __init__(self):\n",
    "        self.x=0\n",
    "\n",
    "    def next(self):\n",
    "#         self.log('hello')\n",
    "        a =[]\n",
    "        for j in range(7):\n",
    "            a.append([])\n",
    "            for i in range(10):\n",
    "                a[j].append(self.data.close[-i-j])\n",
    "\n",
    "        for i in range(7):\n",
    "            a[i] = np.array(a[i])\n",
    "\n",
    "        a = np.array(a)\n",
    "        for i in range(6):\n",
    "            a[i+1] = (a[i+1]-a[0])/a[0]\n",
    "        x = a[0]\n",
    "        a=a[1:]\n",
    "        a = pd.DataFrame(a)\n",
    "#         print(a)\n",
    "        b = a.mean(axis=0)\n",
    "#         print(b[9])\n",
    "        cor = np.corrcoef(x,b)[0][1]\n",
    "        corrs.append(cor)\n",
    "        if(abs(cor)>0.8 and b[9] < -0.02):\n",
    "#             print(\"aa\")\n",
    "            if not self.position:\n",
    "                a = self.broker.getvalue()/2\n",
    "                brackets = self.buy_bracket(size=np.round(a/self.data.close[0]),limitprice=self.data.close[0]*1.05, stopprice=self.data.close[0]*0.95)\n",
    "#                 print(brackets)\n",
    "        "
   ]
  },
  {
   "cell_type": "code",
   "execution_count": 5,
   "id": "f32f0f4d",
   "metadata": {
    "scrolled": false
   },
   "outputs": [
    {
     "name": "stdout",
     "output_type": "stream",
     "text": [
      "Starting Portfolio Value: 100000.00\n",
      "Sharpe Ratio: OrderedDict([('sharperatio', 3.0276684260468216)])\n",
      "Final Portfolio Value: 133382.67\n"
     ]
    },
    {
     "data": {
      "text/plain": [
       "(3.0276684260468216, 33382.66974975003)"
      ]
     },
     "execution_count": 5,
     "metadata": {},
     "output_type": "execute_result"
    }
   ],
   "source": [
    "backtestday('HDFCBANK',trial)"
   ]
  },
  {
   "cell_type": "code",
   "execution_count": null,
   "id": "eb340e98",
   "metadata": {},
   "outputs": [],
   "source": [
    "aa = ['']"
   ]
  }
 ],
 "metadata": {
  "kernelspec": {
   "display_name": "Python 3 (ipykernel)",
   "language": "python",
   "name": "python3"
  },
  "language_info": {
   "codemirror_mode": {
    "name": "ipython",
    "version": 3
   },
   "file_extension": ".py",
   "mimetype": "text/x-python",
   "name": "python",
   "nbconvert_exporter": "python",
   "pygments_lexer": "ipython3",
   "version": "3.7.11"
  }
 },
 "nbformat": 4,
 "nbformat_minor": 5
}

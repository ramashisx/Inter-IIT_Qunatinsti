{
 "cells": [
  {
   "cell_type": "code",
   "execution_count": 1,
   "id": "740634da",
   "metadata": {},
   "outputs": [],
   "source": [
    "import backtrader as bt\n",
    "from backtester import backtest15,backtestday,backtest1hr\n",
    "import numpy as np\n",
    "import statistics            \n",
    "import pandas as pd\n",
    "import math\n",
    "import logging\n",
    "logging.basicConfig(filename=\"log.txt\", level=logging.DEBUG)"
   ]
  },
  {
   "cell_type": "code",
   "execution_count": 133,
   "id": "ea5d7f53",
   "metadata": {},
   "outputs": [],
   "source": [
    "pnl = np.array([])"
   ]
  },
  {
   "cell_type": "code",
   "execution_count": 134,
   "id": "ce8613a1",
   "metadata": {},
   "outputs": [],
   "source": [
    "# pnl=np.array([])\n",
    "class Nimisha(bt.Strategy):\n",
    "    \n",
    "    def __init__(self):\n",
    "        self.lookback=15\n",
    "        \n",
    "    def log(self, txt):\n",
    "        date = self.data.datetime.date(0)\n",
    "        time = self.data.datetime.time()\n",
    "        logging.debug('%s-%s, %s' % (date.isoformat(), time, txt))\n",
    "\n",
    "#     def get_pnl(self):\n",
    "#         return self.pnl\n",
    "\n",
    "    def notify_order(self, order):\n",
    "\n",
    "        if order.status in [order.Submitted, order.Accepted]:\n",
    "            return\n",
    "\n",
    "        if order.status in [order.Completed]:\n",
    "            if order.isbuy():\n",
    "                self.log(\"Buy EXECUTED {}\".format(order.executed.price))\n",
    "            elif order.issell():\n",
    "                self.log(\"Sell EXECUTED {}\".format(order.executed.price))\n",
    "\n",
    "    def next(self):\n",
    "        ohlc1 = (self.data.close[-1]+self.data.high[-1]+self.data.low[-1]+self.data.open[-1])/4\n",
    "        ohlc2 = (self.data.close[-2]+self.data.high[-2]+self.data.low[-2]+self.data.open[-2])/4\n",
    "        ohlc3 = (self.data.close[-3]+self.data.high[-3]+self.data.low[-3]+self.data.open[-3])/4\n",
    "        ohlc = self.data.close.get(size=self.lookback,ago=-1)+self.data.high.get(size=self.lookback,ago=-1)+self.data.low.get(size=self.lookback,ago=-1)+self.data.open.get(size=self.lookback,ago=-1)\n",
    "        ohlc = np.array(ohlc)\n",
    "        ohlc/=4\n",
    "        std = np.array(ohlc).std()\n",
    "        cond1 = ohlc1>ohlc2 and ohlc2>ohlc3\n",
    "        cond2 = (ohlc1>ohlc2+std/2)\n",
    "        cond3 = self.data.high[-1]<self.data.close[0]\n",
    "        lcond = (cond1 or cond2) and cond3\n",
    "        if(lcond):\n",
    "            if(self.data.high[0]>self.data.open[0]*1.005):\n",
    "                pnl = np.append(pnl,self.data.open[0]*0.005)\n",
    "            else:\n",
    "                pnl = np.append(pnl,self.data.close[0]-self.data.open[0])"
   ]
  },
  {
   "cell_type": "code",
   "execution_count": 136,
   "id": "ac497d02",
   "metadata": {},
   "outputs": [],
   "source": [
    "def analysis(data):\n",
    "    pnl=np.array([])\n",
    "    nim = Nimisha()\n",
    "    try:\n",
    "        backtest1hr(data, nim)\n",
    "    except:\n",
    "        pass\n",
    "#     pnl = np.array(pnl)\n",
    "\n",
    "#     aa = nim.get_pnl()\n",
    "    aa = pnl\n",
    "    return aa.sum(), len(aa),len(aa[aa>0]),len(aa[aa<0])"
   ]
  },
  {
   "cell_type": "code",
   "execution_count": 137,
   "id": "66a2e366",
   "metadata": {},
   "outputs": [
    {
     "name": "stdout",
     "output_type": "stream",
     "text": [
      "<backtester.dataFeed object at 0x7f9217112510>\n",
      "Starting Portfolio Value: 100000.00\n"
     ]
    },
    {
     "data": {
      "text/plain": [
       "(0.0, 0, 0, 0)"
      ]
     },
     "execution_count": 137,
     "metadata": {},
     "output_type": "execute_result"
    }
   ],
   "source": [
    "analysis('RELIANCE')"
   ]
  },
  {
   "cell_type": "code",
   "execution_count": 138,
   "id": "24629e16",
   "metadata": {},
   "outputs": [],
   "source": []
  },
  {
   "cell_type": "code",
   "execution_count": 139,
   "id": "bc1425ff",
   "metadata": {},
   "outputs": [
    {
     "ename": "IndentationError",
     "evalue": "expected an indented block (1763208468.py, line 3)",
     "output_type": "error",
     "traceback": [
      "\u001b[0;36m  File \u001b[0;32m\"/var/folders/yy/95rx0nm12jqc32p5svcxxv7h0000gn/T/ipykernel_68209/1763208468.py\"\u001b[0;36m, line \u001b[0;32m3\u001b[0m\n\u001b[0;31m    analysis()\u001b[0m\n\u001b[0m           ^\u001b[0m\n\u001b[0;31mIndentationError\u001b[0m\u001b[0;31m:\u001b[0m expected an indented block\n"
     ]
    }
   ],
   "source": []
  },
  {
   "cell_type": "code",
   "execution_count": 50,
   "id": "5b662083",
   "metadata": {},
   "outputs": [
    {
     "data": {
      "text/plain": [
       "2995.8052500000003"
      ]
     },
     "execution_count": 50,
     "metadata": {},
     "output_type": "execute_result"
    }
   ],
   "source": [
    "pnl.sum()"
   ]
  },
  {
   "cell_type": "code",
   "execution_count": 77,
   "id": "c9ec69a4",
   "metadata": {},
   "outputs": [
    {
     "data": {
      "text/plain": [
       "array([3.])"
      ]
     },
     "execution_count": 77,
     "metadata": {},
     "output_type": "execute_result"
    }
   ],
   "source": [
    "a = np.array([])\n",
    "a = np.append(a,3)\n",
    "a"
   ]
  },
  {
   "cell_type": "code",
   "execution_count": 74,
   "id": "aed24ba1",
   "metadata": {},
   "outputs": [
    {
     "ename": "AttributeError",
     "evalue": "'numpy.ndarray' object has no attribute 'append'",
     "output_type": "error",
     "traceback": [
      "\u001b[0;31m---------------------------------------------------------------------------\u001b[0m",
      "\u001b[0;31mAttributeError\u001b[0m                            Traceback (most recent call last)",
      "\u001b[0;32m/var/folders/yy/95rx0nm12jqc32p5svcxxv7h0000gn/T/ipykernel_68209/1309286793.py\u001b[0m in \u001b[0;36m<module>\u001b[0;34m\u001b[0m\n\u001b[0;32m----> 1\u001b[0;31m \u001b[0ma\u001b[0m\u001b[0;34m.\u001b[0m\u001b[0mappend\u001b[0m\u001b[0;34m(\u001b[0m\u001b[0;36m3\u001b[0m\u001b[0;34m)\u001b[0m\u001b[0;34m\u001b[0m\u001b[0;34m\u001b[0m\u001b[0m\n\u001b[0m",
      "\u001b[0;31mAttributeError\u001b[0m: 'numpy.ndarray' object has no attribute 'append'"
     ]
    }
   ],
   "source": [
    "a.append(3)"
   ]
  },
  {
   "cell_type": "code",
   "execution_count": 30,
   "id": "22a1f7cc",
   "metadata": {},
   "outputs": [],
   "source": [
    "def analysis(symbol):\n",
    "    data = pd.read_csv(\"1hr/\"+symbol+\".csv\")\n",
    "    lookback=14\n",
    "    sma = 40\n",
    "    data['ohlc'] = (data.High+data.Low+data.Close+data.Open)/4\n",
    "    pnl=[]\n",
    "    b = 0\n",
    "    trade_position = []\n",
    "    for i in range(sma+5,len(data)):\n",
    "#         trade_position.append(b)\n",
    "        std = np.array(data.ohlc[i-lookback:i]).std()\n",
    "        ohlc1,ohlc2,ohlc3 = data.ohlc[i-1],data.ohlc[i-2],data.ohlc[i-3]\n",
    "        cond1 = ohlc1>ohlc2 and ohlc2>ohlc3\n",
    "        cond2 = (ohlc1>ohlc2+std/2)\n",
    "        cond3 = data.High[i-2]<data.Close[i-1]\n",
    "        sig1 = np.sum(data.Close[i-sma:i])>np.sum(data.Close[i-sma-1:i-1]) and np.sum(data.Close[i-sma-1:i-1])>np.sum(data.Close[i-2-sma:i-2])\n",
    "        sig2 = (((data.Close[i-1]-data.Open[i-lookback]))/(np.max(data.High[i-lookback:i])-np.min(data.Low[i-lookback:i])))>0.9\n",
    "        lcond = (cond1 or cond2) and cond3 and sig1 and sig2\n",
    "        if(lcond):\n",
    "#             b = 1\n",
    "            if(data.High[i]>data.Open[i]*1.005):\n",
    "                trade_position.append(np.log(1.005))\n",
    "                pnl.append(0.005*data.Open[i])\n",
    "            else:\n",
    "                pnl.append(data.Close[i]-data.Open[i])\n",
    "                trade_position.append(np.log(data.Close[i] / data.Open[i]))\n",
    "        else:\n",
    "            trade_position.append(0)\n",
    "    \n",
    "    mean = sum(trade_position) / len(trade_position)\n",
    "    std = statistics.pstdec(trade_position)\n",
    "    sharpe = mean / std * math.sqrt(252)\n",
    "    aa = np.array(pnl)\n",
    "    return sharpe"
   ]
  },
  {
   "cell_type": "code",
   "execution_count": null,
   "id": "e3f88bae",
   "metadata": {},
   "outputs": [],
   "source": []
  },
  {
   "cell_type": "code",
   "execution_count": null,
   "id": "2b737cc4",
   "metadata": {},
   "outputs": [],
   "source": []
  },
  {
   "cell_type": "code",
   "execution_count": null,
   "id": "83db3579",
   "metadata": {},
   "outputs": [],
   "source": []
  },
  {
   "cell_type": "code",
   "execution_count": 23,
   "id": "ac6b5b07",
   "metadata": {},
   "outputs": [],
   "source": [
    "tickers = pd.read_csv('nifties/nifty500.csv').Symbol"
   ]
  },
  {
   "cell_type": "code",
   "execution_count": 24,
   "id": "e94e9159",
   "metadata": {
    "scrolled": true
   },
   "outputs": [
    {
     "name": "stdout",
     "output_type": "stream",
     "text": [
      "error in  360ONE\n",
      "error in  AAVAS\n",
      "error in  ATGL\n",
      "error in  AWL\n",
      "error in  ABSLAMC\n",
      "error in  AETHER\n",
      "error in  AFFLE\n",
      "error in  ALOKINDS\n",
      "error in  ANGELONE\n",
      "error in  ANURAS\n",
      "error in  APTUS\n",
      "error in  BANDHANBNK\n",
      "error in  BDL\n",
      "error in  MAPMYINDIA\n",
      "error in  CAMPUS\n",
      "error in  CHALET\n",
      "error in  CHEMPLASTS\n",
      "error in  CLEAN\n",
      "error in  CREDITACC\n",
      "error in  DALBHARAT\n",
      "error in  DELHIVERY\n",
      "error in  DEVYANI\n",
      "error in  EASEMYTRIP\n",
      "error in  EQUITASBNK\n",
      "error in  NYKAA\n",
      "error in  FINEORG\n",
      "error in  GRINFRA\n",
      "error in  GLAND\n",
      "error in  GOCOLORS\n",
      "error in  GREENPANEL\n",
      "error in  FLUOROCHEM\n",
      "error in  HDFCAMC\n",
      "error in  HAL\n",
      "error in  POWERINDIA\n",
      "error in  HOMEFIRST\n",
      "error in  ISEC\n",
      "error in  INDIAMART\n",
      "error in  IRCTC\n",
      "error in  IRFC\n",
      "error in  INDIGOPNTS\n",
      "error in  JUBLINGREA\n",
      "error in  KPITTECH\n",
      "error in  KALYANKJIL\n",
      "error in  KIMS\n",
      "error in  L&TFH\n",
      "error in  LATENTVIEW\n",
      "error in  LXCHEM\n",
      "error in  LEMONTREE\n",
      "error in  LICI\n",
      "error in  MTARTECH\n",
      "error in  LODHA\n",
      "error in  M&MFIN\n",
      "error in  M&M\n",
      "error in  MAXHEALTH\n",
      "error in  MAZDOCK\n",
      "error in  MEDPLUS\n",
      "error in  METROBRAND\n",
      "error in  METROPOLIS\n",
      "error in  MSUMI\n",
      "error in  NAZARA\n",
      "error in  NUVOCO\n",
      "error in  PAYTM\n",
      "error in  ORIENTELEC\n",
      "error in  POLICYBZR\n",
      "error in  PCBL\n",
      "error in  PATANJALI\n",
      "error in  POLYCAB\n",
      "error in  POONAWALLA\n",
      "error in  PRINCEPIPE\n",
      "error in  RHIM\n",
      "error in  RITES\n",
      "error in  RVNL\n",
      "error in  RAINBOW\n",
      "error in  RTNINDIA\n",
      "error in  RBA\n",
      "error in  ROSSARI\n",
      "error in  ROUTE\n",
      "error in  SBICARD\n",
      "error in  SAPPHIRE\n",
      "error in  SHYAMMETL\n",
      "error in  SONACOMS\n",
      "error in  STARHEALTH\n",
      "error in  SWSOLAR\n",
      "error in  SUMICHEM\n",
      "error in  SUVENPHAR\n",
      "error in  TCNSBRANDS\n",
      "error in  TATAMTRDVR\n",
      "error in  UNOMINDA\n",
      "error in  UTIAMC\n",
      "error in  VARROC\n",
      "error in  MANYAVAR\n",
      "error in  VIJAYA\n",
      "error in  ZFCVINDIA\n",
      "error in  ZOMATO\n"
     ]
    }
   ],
   "source": [
    "df = []\n",
    "for t in tickers:\n",
    "    try:\n",
    "        aa = analysis(t)\n",
    "#         print(aa)\n",
    "        df.append([t,aa.sum(),len(aa),len(aa[aa>0]),len(aa[aa<0])])\n",
    "    except:\n",
    "        print(\"error in \",t)"
   ]
  },
  {
   "cell_type": "code",
   "execution_count": 25,
   "id": "c1b9b840",
   "metadata": {},
   "outputs": [],
   "source": [
    "df = pd.DataFrame(df,columns = ['Ticker','Totalpnl','trades','tradeswon','tradeslost'])"
   ]
  },
  {
   "cell_type": "code",
   "execution_count": 26,
   "id": "3fb98f6b",
   "metadata": {},
   "outputs": [],
   "source": [
    "df['winratio'] = df.tradeswon/df.trades"
   ]
  },
  {
   "cell_type": "code",
   "execution_count": 27,
   "id": "70f3e7a4",
   "metadata": {},
   "outputs": [
    {
     "data": {
      "text/plain": [
       "50"
      ]
     },
     "execution_count": 27,
     "metadata": {},
     "output_type": "execute_result"
    }
   ],
   "source": [
    "len(df[df.winratio>0.7])"
   ]
  },
  {
   "cell_type": "code",
   "execution_count": 28,
   "id": "ff09b9c4",
   "metadata": {},
   "outputs": [],
   "source": [
    "df[df.winratio>0.6].to_csv('For_aritra.csv')"
   ]
  },
  {
   "cell_type": "code",
   "execution_count": null,
   "id": "a4aa0583",
   "metadata": {},
   "outputs": [],
   "source": []
  }
 ],
 "metadata": {
  "kernelspec": {
   "display_name": "Python 3 (ipykernel)",
   "language": "python",
   "name": "python3"
  },
  "language_info": {
   "codemirror_mode": {
    "name": "ipython",
    "version": 3
   },
   "file_extension": ".py",
   "mimetype": "text/x-python",
   "name": "python",
   "nbconvert_exporter": "python",
   "pygments_lexer": "ipython3",
   "version": "3.7.11"
  }
 },
 "nbformat": 4,
 "nbformat_minor": 5
}

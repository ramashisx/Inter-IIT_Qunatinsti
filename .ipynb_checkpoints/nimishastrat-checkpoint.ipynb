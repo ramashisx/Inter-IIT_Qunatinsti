{
 "cells": [
  {
   "cell_type": "code",
   "execution_count": 24,
   "id": "6fc7829a",
   "metadata": {},
   "outputs": [],
   "source": [
    "import backtrader as bt\n",
    "from backtester import backtest15,backtestday,backtest1hr\n",
    "import numpy as np\n",
    "                    \n",
    "import pandas as pd\n",
    "\n",
    "import logging\n",
    "logging.basicConfig(filename=\"log.txt\", level=logging.DEBUG)"
   ]
  },
  {
   "cell_type": "code",
   "execution_count": 2,
   "id": "e3d1c022",
   "metadata": {},
   "outputs": [],
   "source": [
    "class Nimisha(bt.Strategy):\n",
    "#     params = (('lookback',10),('hel',10))\n",
    "\n",
    "    \n",
    "    def log(self, txt):\n",
    "        date = self.data.datetime.date(0)\n",
    "        time = self.data.datetime.time()\n",
    "        logging.debug('%s-%s, %s' % (date.isoformat(), time, txt))\n",
    "        \n",
    "        \n",
    "    def notify_order(self, order):\n",
    "        \n",
    "        if order.status in [order.Submitted, order.Accepted]:\n",
    "            return\n",
    "\n",
    "        if order.status in [order.Completed]:\n",
    "            if order.isbuy():\n",
    "                self.log(\"Buy EXECUTED {}\".format(order.executed.price))\n",
    "            elif order.issell():\n",
    "                self.log(\"Sell EXECUTED {}\".format(order.executed.price))\n",
    "\n",
    "                \n",
    "    def __init__(self):\n",
    "        self.lookback=15\n",
    "\n",
    "    def next(self):\n",
    "        ohlc1 = self.data.close[-1]+self.data.high[-1]+self.data.low[-1]+self.data.open[-1]\n",
    "        ohlc2 = self.data.close[-2]+self.data.high[-2]+self.data.low[-2]+self.data.open[-2]\n",
    "        ohlc3 = self.data.close[-3]+self.data.high[-3]+self.data.low[-3]+self.data.open[-3]\n",
    "        ohlc = self.data.close.get(self.lookback,-1)+self.data.high.get(self.lookback,-1)+self.data.low.get(self.lookback,-1)+self.data.open.get(self.lookback,-1)\n",
    "        std = np.array(ohlc).std()\n",
    "        print\n",
    "#         a =[]\n",
    "#         for j in range(7):\n",
    "#             a.append([])\n",
    "#             for i in range(self.x):\n",
    "#                 a[j].append(self.data.close[-i-j])\n",
    "\n",
    "#         for i in range(7):\n",
    "#             a[i] = np.array(a[i])\n",
    "\n",
    "#         a = np.array(a)\n",
    "#         for i in range(6):\n",
    "#             a[i+1] = (a[i+1]-a[0])/a[0]\n",
    "#         x = a[0]\n",
    "#         a=a[1:]\n",
    "#         a = pd.DataFrame(a)\n",
    "#         b = a.mean(axis=0)\n",
    "#         cor = np.corrcoef(x,b)[0][1]\n",
    "#         corrs.append(cor)\n",
    "#         if(abs(cor)>0.7 and b[self.x-1] < -0.04):\n",
    "#             if not self.position:\n",
    "#                 a = self.broker.getvalue()/2\n",
    "#                 brackets = self.buy_bracket(size=np.round(a/self.data.close[0]),limitprice=self.data.close[0]*1.1, stopprice=self.data.close[0]*0.95)\n",
    "        "
   ]
  },
  {
   "cell_type": "code",
   "execution_count": 3,
   "id": "9bc46086",
   "metadata": {},
   "outputs": [],
   "source": []
  },
  {
   "cell_type": "code",
   "execution_count": 17,
   "id": "fa52995b",
   "metadata": {},
   "outputs": [],
   "source": [
    "    data['ohlc'] = (data.High+data.Close+data.Low+data.Open)/4\n",
    "    lookback=14\n",
    "    pnl = []\n",
    "    for i in range(15,len(data)):\n",
    "    #     try:\n",
    "        std = np.array(data.ohlc[i-lookback:i]).std()\n",
    "        cond1 = data.ohlc[i]>data.ohlc[i-1] and data.ohlc[i-1]>data.ohlc[i-2]\n",
    "        cond2 = (data.ohlc[i]>data.ohlc[i-1]+std/2)\n",
    "        cond3 = data.High[i-1]<data.Close[i]\n",
    "        lcond = (cond1 or cond2) and cond3\n",
    "        if(lcond):\n",
    "    #             buyprice = data.Open[i]\n",
    "\n",
    "            if(data.High[i]>data.Open[i]*1.005):\n",
    "                pnl.append(data.Open[i]*0.005)\n",
    "            else:\n",
    "                pnl.append(data.Close[i]-data.Open[i])\n",
    "    #     except:\n",
    "    #         print('error')\n"
   ]
  },
  {
   "cell_type": "code",
   "execution_count": 20,
   "id": "9ad8e2f3",
   "metadata": {},
   "outputs": [],
   "source": [
    "pnl = np.array(pnl)"
   ]
  },
  {
   "cell_type": "code",
   "execution_count": 21,
   "id": "8b55bc18",
   "metadata": {},
   "outputs": [
    {
     "data": {
      "text/plain": [
       "4651.663750000001"
      ]
     },
     "execution_count": 21,
     "metadata": {},
     "output_type": "execute_result"
    }
   ],
   "source": [
    "pnl.sum()"
   ]
  },
  {
   "cell_type": "code",
   "execution_count": null,
   "id": "2af52b4b",
   "metadata": {},
   "outputs": [],
   "source": []
  }
 ],
 "metadata": {
  "kernelspec": {
   "display_name": "Python 3 (ipykernel)",
   "language": "python",
   "name": "python3"
  },
  "language_info": {
   "codemirror_mode": {
    "name": "ipython",
    "version": 3
   },
   "file_extension": ".py",
   "mimetype": "text/x-python",
   "name": "python",
   "nbconvert_exporter": "python",
   "pygments_lexer": "ipython3",
   "version": "3.7.11"
  }
 },
 "nbformat": 4,
 "nbformat_minor": 5
}

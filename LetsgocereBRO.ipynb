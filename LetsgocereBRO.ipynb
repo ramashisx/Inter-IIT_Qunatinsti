{
 "cells": [
  {
   "cell_type": "code",
   "execution_count": 56,
   "id": "ee23d12e",
   "metadata": {},
   "outputs": [],
   "source": [
    "import backtrader as bt\n",
    "import datetime\n",
    "import matplotlib\n",
    "import math\n",
    "import talib\n",
    "import numpy as np\n",
    "\n",
    "import backtrader.analyzers as btanalyzers\n",
    "# from RSI import RsiSignalStrategy\n",
    "# from goldencross import Cross"
   ]
  },
  {
   "cell_type": "code",
   "execution_count": 57,
   "id": "145a357e",
   "metadata": {},
   "outputs": [],
   "source": [
    "class Zope(bt.Strategy):\n",
    "    params = (('fast',50),('slow',200),('order_percentage',0.95),('ticker','SPY'))\n",
    "    \n",
    "    def __init__(self):\n",
    "        self.ma = bt.indicators.SMA(self.data.close,period = 200,plotname= '200days')  \n",
    "        self.rsi = bt.talib.RSI(self.data,timeperiod = 10)\n",
    "        self.x = 0\n",
    "        \n",
    "    def next(self):\n",
    "#         print(self.rsi)\n",
    "        \n",
    "        if self.position.size == 0:\n",
    "            if(self.data.close>self.ma and self.rsi<30):\n",
    "                self.buy(size=10)\n",
    "                self.x=1\n",
    "\n",
    "        if self.position.size > 0:\n",
    "            if(self.rsi>40 or self.x>10):\n",
    "                self.close()\n",
    "\n",
    "            else:\n",
    "                self.x+=1"
   ]
  },
  {
   "cell_type": "code",
   "execution_count": null,
   "id": "1dfce722",
   "metadata": {},
   "outputs": [],
   "source": [
    "class Zope2(bt.Strategy):\n",
    "    params = (('fast',50),('slow',200),('order_percentage',0.95),('ticker','SPY'))\n",
    "    \n",
    "    def __init__(self):\n",
    "#         self.ma = bt.indicators.SMA(self.data.close,period = 200,plotname= '200days')  \n",
    "#         self.rsi = bt.talib.RSI(self.data,timeperiod = 10)\n",
    "        self.x = 0\n",
    "        \n",
    "    def next(self):\n",
    "        \n",
    "        if self.position.size == 0:\n",
    "            if(self.data.close>self.ma and self.rsi<30):\n",
    "                self.buy(size=10)\n",
    "                self.x=1\n",
    "\n",
    "        if self.position.size > 0:\n",
    "            if(self.rsi>40 or self.x>10):\n",
    "                self.close()\n",
    "\n",
    "            else:\n",
    "                self.x+=1"
   ]
  },
  {
   "cell_type": "code",
   "execution_count": 126,
   "id": "109a0bda",
   "metadata": {},
   "outputs": [],
   "source": [
    "class abhijeet(bt.Strategy):\n",
    "    \n",
    "    def __init__(self):\n",
    "        self.closex = 0\n",
    "        self.x=0\n",
    "        \n",
    "    def next(self):\n",
    "        \n",
    "        pclose = (lr(np.array(self.data.get(size=14))))[0]\n",
    "\n",
    "        if self.position.size == 0:\n",
    "            if(self.data.open>self.closex and pclose<self.data.close[0]):\n",
    "                self.sell(size=10)\n",
    "                self.x=self.data.open\n",
    "            \n",
    "            if(self.data.open<self.closex and pclose>self.data.close[0]):\n",
    "                self.buy(size=10)\n",
    "                self.x=self.data.open\n",
    "\n",
    "        if self.position.size > 0:\n",
    "            if(self.data.low < self.x-5):\n",
    "                self.close()\n",
    "            if(self.data.high > self.x+10):\n",
    "                self.close()\n",
    "\n",
    "        if self.position.size < 0:\n",
    "            if(self.data.high > self.x+5):\n",
    "                self.close()\n",
    "            if(self.data.low < self.x-10):\n",
    "                self.close()\n",
    "                \n",
    "        self.closex = self.data.close"
   ]
  },
  {
   "cell_type": "code",
   "execution_count": 98,
   "id": "1969066b",
   "metadata": {},
   "outputs": [],
   "source": [
    "from sklearn.linear_model import LinearRegression\n",
    "\n",
    "def lr(y):\n",
    "    x = np.array(range(1, 15)).reshape(-1, 1)\n",
    "#     \n",
    "\n",
    "    # Model initialization\n",
    "    reg = LinearRegression()\n",
    "\n",
    "    # Fit the model to the data\n",
    "    reg.fit(x, y)\n",
    "\n",
    "    # Predict the 15th point\n",
    "    x_test = np.array([15]).reshape(-1, 1)\n",
    "    return reg.predict(x_test)"
   ]
  },
  {
   "cell_type": "code",
   "execution_count": 115,
   "id": "c01908e9",
   "metadata": {},
   "outputs": [],
   "source": [
    "class RsiSignalStrategy(bt.Strategy):\n",
    "    params = dict(rsi_periods=14,rsi_upper=70,rsi_lower=30,rsi_mid=50)\n",
    "\n",
    "    def __init__(self):\n",
    "\n",
    "        self.rsi = bt.indicators.RSI(period=self.p.rsi_periods,\n",
    "                                upperband=self.p.rsi_upper,\n",
    "                                lowerband=self.p.rsi_lower)\n",
    "    \n",
    "    def next(self):\n",
    "        xx = (self.data.close[-1])\n",
    "        \n",
    "        if(self.rsi<self.params.rsi_lower):\n",
    "            self.buy(size=100)\n",
    "        \n",
    "        if(self.rsi>self.params.rsi_mid):\n",
    "            if(self.position.size>0):\n",
    "                self.close()\n",
    "        \n",
    "        if(self.rsi>self.params.rsi_upper):\n",
    "            self.sell(size=100)\n",
    "            \n",
    "        if(self.rsi<self.params.rsi_mid):\n",
    "            if(self.position.size<0):\n",
    "                self.close()"
   ]
  },
  {
   "cell_type": "code",
   "execution_count": 125,
   "id": "33ec37da",
   "metadata": {},
   "outputs": [],
   "source": [
    "class Gokul(bt.Strategy):\n",
    "#     params = dict(rsi_periods=14,rsi_upper=70,rsi_lower=30,rsi_mid=50)\n",
    "\n",
    "    def __init__(self):\n",
    "        \n",
    "        self.x = 0\n",
    "\n",
    "#         self.rsi = bt.indicators.RSI(period=self.p.rsi_periods,\n",
    "#                                 upperband=self.p.rsi_upper,\n",
    "#                                 lowerband=self.p.rsi_lower)\n",
    "    \n",
    "    def next(self):\n",
    "        \n",
    "        try:\n",
    "            pclose = (lr(np.array(self.data.get(size=14))))[0]\n",
    "        except:\n",
    "            pclose = null\n",
    "        \n",
    "        if(self.rsi<self.params.rsi_lower):\n",
    "            self.buy(size=100)\n",
    "        \n",
    "        if(self.rsi>self.params.rsi_mid):\n",
    "            if(self.position.size>0):\n",
    "                self.close()\n",
    "        \n",
    "        if(self.rsi>self.params.rsi_upper):\n",
    "            self.sell(size=100)\n",
    "            \n",
    "        if(self.rsi<self.params.rsi_mid):\n",
    "            if(self.position.size<0):\n",
    "                self.close()"
   ]
  },
  {
   "cell_type": "code",
   "execution_count": 131,
   "id": "17f083e8",
   "metadata": {
    "scrolled": false
   },
   "outputs": [
    {
     "ename": "AttributeError",
     "evalue": "module 'backtrader.feeds' has no attribute 'CSVData'",
     "output_type": "error",
     "traceback": [
      "\u001b[0;31m---------------------------------------------------------------------------\u001b[0m",
      "\u001b[0;31mAttributeError\u001b[0m                            Traceback (most recent call last)",
      "\u001b[0;32m/var/folders/yy/95rx0nm12jqc32p5svcxxv7h0000gn/T/ipykernel_94724/396932638.py\u001b[0m in \u001b[0;36m<module>\u001b[0;34m\u001b[0m\n\u001b[1;32m      2\u001b[0m \u001b[0mcerebro\u001b[0m\u001b[0;34m.\u001b[0m\u001b[0mbroker\u001b[0m\u001b[0;34m.\u001b[0m\u001b[0msetcash\u001b[0m\u001b[0;34m(\u001b[0m\u001b[0;36m100000.0\u001b[0m\u001b[0;34m)\u001b[0m\u001b[0;34m\u001b[0m\u001b[0;34m\u001b[0m\u001b[0m\n\u001b[1;32m      3\u001b[0m \u001b[0;34m\u001b[0m\u001b[0m\n\u001b[0;32m----> 4\u001b[0;31m data = bt.feeds.CSVData(\n\u001b[0m\u001b[1;32m      5\u001b[0m         \u001b[0mdataname\u001b[0m\u001b[0;34m=\u001b[0m\u001b[0;34m'SBIN_15.csv'\u001b[0m\u001b[0;34m,\u001b[0m\u001b[0;34m\u001b[0m\u001b[0;34m\u001b[0m\u001b[0m\n\u001b[1;32m      6\u001b[0m         \u001b[0mfromdate\u001b[0m\u001b[0;34m=\u001b[0m\u001b[0mdatetime\u001b[0m\u001b[0;34m(\u001b[0m\u001b[0;36m2019\u001b[0m\u001b[0;34m,\u001b[0m \u001b[0;36m1\u001b[0m\u001b[0;34m,\u001b[0m \u001b[0;36m1\u001b[0m\u001b[0;34m)\u001b[0m\u001b[0;34m,\u001b[0m\u001b[0;34m\u001b[0m\u001b[0;34m\u001b[0m\u001b[0m\n",
      "\u001b[0;31mAttributeError\u001b[0m: module 'backtrader.feeds' has no attribute 'CSVData'"
     ]
    }
   ],
   "source": [
    "cerebro = bt.Cerebro()\n",
    "cerebro.broker.setcash(100000.0)\n",
    "\n",
    "data = bt.feeds.CSVData(\n",
    "        dataname='SBIN_15.csv',\n",
    "        fromdate=datetime(2019, 1, 1), \n",
    "        todate=datetime(2020, 1, 1),\n",
    "        reverse=False)\n",
    "\n",
    "cerebro.adddata(data)\n",
    "cerebro.addstrategy(RsiSignalStrategy)\n",
    "cerebro.addanalyzer(btanalyzers.SharpeRatio, _name='mysharpe')\n",
    "cerebro.addanalyzer(btanalyzers.PyFolio, _name='pyfolio')\n",
    "    \n",
    "print('Starting Portfolio Value: %.2f' % cerebro.broker.getvalue())\n",
    "\n",
    "thestrats = cerebro.run()\n",
    "thestrat = thestrats[0]\n",
    "\n",
    "strat = thestrat\n",
    "pyfoliozer = strat.analyzers.getbyname('pyfolio')\n",
    "returns, positions, transactions, gross_lev = pyfoliozer.get_pf_items()\n",
    "\n",
    "print('Sharpe Ratio:', thestrat.analyzers.mysharpe.get_analysis())\n",
    "print('Final Portfolio Value: %.2f' % cerebro.broker.getvalue())\n",
    "\n",
    "cerebro.plot()"
   ]
  },
  {
   "cell_type": "code",
   "execution_count": 117,
   "id": "5f8939b7",
   "metadata": {},
   "outputs": [],
   "source": [
    "returns, positions, transactions, gross_lev = pyfoliozer.get_pf_items()"
   ]
  },
  {
   "cell_type": "code",
   "execution_count": 118,
   "id": "0f90d96e",
   "metadata": {},
   "outputs": [
    {
     "name": "stderr",
     "output_type": "stream",
     "text": [
      "/Users/raghavaggarwal/opt/anaconda3/lib/python3.7/site-packages/empyrical/stats.py:447: RuntimeWarning: invalid value encountered in double_scalars\n",
      "  return ending_value ** (1 / num_years) - 1\n",
      "/Users/raghavaggarwal/opt/anaconda3/lib/python3.7/site-packages/empyrical/stats.py:1494: RuntimeWarning: invalid value encountered in log1p\n",
      "  cum_log_returns = np.log1p(returns).cumsum()\n",
      "/Users/raghavaggarwal/opt/anaconda3/lib/python3.7/site-packages/empyrical/stats.py:1528: RuntimeWarning: invalid value encountered in double_scalars\n",
      "  np.abs(np.percentile(returns, 5))\n"
     ]
    },
    {
     "data": {
      "text/html": [
       "<table border=\"1\" class=\"dataframe\">\n",
       "  <thead>\n",
       "    <tr style=\"text-align: right;\"><th>Start date</th><td colspan=2>2018-03-01</td></tr>\n",
       "    <tr style=\"text-align: right;\"><th>End date</th><td colspan=2>2021-03-01</td></tr>\n",
       "    <tr style=\"text-align: right;\"><th>Total months</th><td colspan=2>35</td></tr>\n",
       "    <tr style=\"text-align: right;\">\n",
       "      <th></th>\n",
       "      <th>Backtest</th>\n",
       "    </tr>\n",
       "  </thead>\n",
       "  <tbody>\n",
       "    <tr>\n",
       "      <th>Annual return</th>\n",
       "      <td>nan%</td>\n",
       "    </tr>\n",
       "    <tr>\n",
       "      <th>Cumulative returns</th>\n",
       "      <td>-79340778.8%</td>\n",
       "    </tr>\n",
       "    <tr>\n",
       "      <th>Annual volatility</th>\n",
       "      <td>146706.0%</td>\n",
       "    </tr>\n",
       "    <tr>\n",
       "      <th>Sharpe ratio</th>\n",
       "      <td>-0.60</td>\n",
       "    </tr>\n",
       "    <tr>\n",
       "      <th>Calmar ratio</th>\n",
       "      <td>NaN</td>\n",
       "    </tr>\n",
       "    <tr>\n",
       "      <th>Stability</th>\n",
       "      <td>NaN</td>\n",
       "    </tr>\n",
       "    <tr>\n",
       "      <th>Max drawdown</th>\n",
       "      <td>-319149.6%</td>\n",
       "    </tr>\n",
       "    <tr>\n",
       "      <th>Omega ratio</th>\n",
       "      <td>0.01</td>\n",
       "    </tr>\n",
       "    <tr>\n",
       "      <th>Sortino ratio</th>\n",
       "      <td>-0.60</td>\n",
       "    </tr>\n",
       "    <tr>\n",
       "      <th>Skew</th>\n",
       "      <td>-27.15</td>\n",
       "    </tr>\n",
       "    <tr>\n",
       "      <th>Kurtosis</th>\n",
       "      <td>736.12</td>\n",
       "    </tr>\n",
       "    <tr>\n",
       "      <th>Tail ratio</th>\n",
       "      <td>NaN</td>\n",
       "    </tr>\n",
       "    <tr>\n",
       "      <th>Daily value at risk</th>\n",
       "      <td>-18834.6%</td>\n",
       "    </tr>\n",
       "  </tbody>\n",
       "</table>"
      ],
      "text/plain": [
       "<IPython.core.display.HTML object>"
      ]
     },
     "metadata": {},
     "output_type": "display_data"
    },
    {
     "ename": "AttributeError",
     "evalue": "'numpy.int64' object has no attribute 'to_pydatetime'",
     "output_type": "error",
     "traceback": [
      "\u001b[0;31m---------------------------------------------------------------------------\u001b[0m",
      "\u001b[0;31mAttributeError\u001b[0m                            Traceback (most recent call last)",
      "\u001b[0;32m/var/folders/yy/95rx0nm12jqc32p5svcxxv7h0000gn/T/ipykernel_94724/1186032410.py\u001b[0m in \u001b[0;36m<module>\u001b[0;34m\u001b[0m\n\u001b[1;32m      1\u001b[0m \u001b[0;32mimport\u001b[0m \u001b[0mpyfolio\u001b[0m \u001b[0;32mas\u001b[0m \u001b[0mpf\u001b[0m\u001b[0;34m\u001b[0m\u001b[0;34m\u001b[0m\u001b[0m\n\u001b[0;32m----> 2\u001b[0;31m \u001b[0mpf\u001b[0m\u001b[0;34m.\u001b[0m\u001b[0mcreate_full_tear_sheet\u001b[0m\u001b[0;34m(\u001b[0m\u001b[0mreturns\u001b[0m\u001b[0;34m)\u001b[0m\u001b[0;34m\u001b[0m\u001b[0;34m\u001b[0m\u001b[0m\n\u001b[0m",
      "\u001b[0;32m~/opt/anaconda3/lib/python3.7/site-packages/pyfolio/tears.py\u001b[0m in \u001b[0;36mcreate_full_tear_sheet\u001b[0;34m(returns, positions, transactions, market_data, benchmark_rets, slippage, live_start_date, sector_mappings, bayesian, round_trips, estimate_intraday, hide_positions, cone_std, bootstrap, unadjusted_returns, style_factor_panel, sectors, caps, shares_held, volumes, percentile, turnover_denom, set_context, factor_returns, factor_loadings, pos_in_dollars, header_rows, factor_partitions)\u001b[0m\n\u001b[1;32m    209\u001b[0m         \u001b[0mturnover_denom\u001b[0m\u001b[0;34m=\u001b[0m\u001b[0mturnover_denom\u001b[0m\u001b[0;34m,\u001b[0m\u001b[0;34m\u001b[0m\u001b[0;34m\u001b[0m\u001b[0m\n\u001b[1;32m    210\u001b[0m         \u001b[0mheader_rows\u001b[0m\u001b[0;34m=\u001b[0m\u001b[0mheader_rows\u001b[0m\u001b[0;34m,\u001b[0m\u001b[0;34m\u001b[0m\u001b[0;34m\u001b[0m\u001b[0m\n\u001b[0;32m--> 211\u001b[0;31m         set_context=set_context)\n\u001b[0m\u001b[1;32m    212\u001b[0m \u001b[0;34m\u001b[0m\u001b[0m\n\u001b[1;32m    213\u001b[0m     create_interesting_times_tear_sheet(returns,\n",
      "\u001b[0;32m~/opt/anaconda3/lib/python3.7/site-packages/pyfolio/plotting.py\u001b[0m in \u001b[0;36mcall_w_context\u001b[0;34m(*args, **kwargs)\u001b[0m\n\u001b[1;32m     50\u001b[0m         \u001b[0;32mif\u001b[0m \u001b[0mset_context\u001b[0m\u001b[0;34m:\u001b[0m\u001b[0;34m\u001b[0m\u001b[0;34m\u001b[0m\u001b[0m\n\u001b[1;32m     51\u001b[0m             \u001b[0;32mwith\u001b[0m \u001b[0mplotting_context\u001b[0m\u001b[0;34m(\u001b[0m\u001b[0;34m)\u001b[0m\u001b[0;34m,\u001b[0m \u001b[0maxes_style\u001b[0m\u001b[0;34m(\u001b[0m\u001b[0;34m)\u001b[0m\u001b[0;34m:\u001b[0m\u001b[0;34m\u001b[0m\u001b[0;34m\u001b[0m\u001b[0m\n\u001b[0;32m---> 52\u001b[0;31m                 \u001b[0;32mreturn\u001b[0m \u001b[0mfunc\u001b[0m\u001b[0;34m(\u001b[0m\u001b[0;34m*\u001b[0m\u001b[0margs\u001b[0m\u001b[0;34m,\u001b[0m \u001b[0;34m**\u001b[0m\u001b[0mkwargs\u001b[0m\u001b[0;34m)\u001b[0m\u001b[0;34m\u001b[0m\u001b[0;34m\u001b[0m\u001b[0m\n\u001b[0m\u001b[1;32m     53\u001b[0m         \u001b[0;32melse\u001b[0m\u001b[0;34m:\u001b[0m\u001b[0;34m\u001b[0m\u001b[0;34m\u001b[0m\u001b[0m\n\u001b[1;32m     54\u001b[0m             \u001b[0;32mreturn\u001b[0m \u001b[0mfunc\u001b[0m\u001b[0;34m(\u001b[0m\u001b[0;34m*\u001b[0m\u001b[0margs\u001b[0m\u001b[0;34m,\u001b[0m \u001b[0;34m**\u001b[0m\u001b[0mkwargs\u001b[0m\u001b[0;34m)\u001b[0m\u001b[0;34m\u001b[0m\u001b[0;34m\u001b[0m\u001b[0m\n",
      "\u001b[0;32m~/opt/anaconda3/lib/python3.7/site-packages/pyfolio/tears.py\u001b[0m in \u001b[0;36mcreate_returns_tear_sheet\u001b[0;34m(returns, positions, transactions, live_start_date, cone_std, benchmark_rets, bootstrap, turnover_denom, header_rows, return_fig)\u001b[0m\n\u001b[1;32m    502\u001b[0m                              header_rows=header_rows)\n\u001b[1;32m    503\u001b[0m \u001b[0;34m\u001b[0m\u001b[0m\n\u001b[0;32m--> 504\u001b[0;31m     \u001b[0mplotting\u001b[0m\u001b[0;34m.\u001b[0m\u001b[0mshow_worst_drawdown_periods\u001b[0m\u001b[0;34m(\u001b[0m\u001b[0mreturns\u001b[0m\u001b[0;34m)\u001b[0m\u001b[0;34m\u001b[0m\u001b[0;34m\u001b[0m\u001b[0m\n\u001b[0m\u001b[1;32m    505\u001b[0m \u001b[0;34m\u001b[0m\u001b[0m\n\u001b[1;32m    506\u001b[0m     \u001b[0mvertical_sections\u001b[0m \u001b[0;34m=\u001b[0m \u001b[0;36m11\u001b[0m\u001b[0;34m\u001b[0m\u001b[0;34m\u001b[0m\u001b[0m\n",
      "\u001b[0;32m~/opt/anaconda3/lib/python3.7/site-packages/pyfolio/plotting.py\u001b[0m in \u001b[0;36mshow_worst_drawdown_periods\u001b[0;34m(returns, top)\u001b[0m\n\u001b[1;32m   1662\u001b[0m     \"\"\"\n\u001b[1;32m   1663\u001b[0m \u001b[0;34m\u001b[0m\u001b[0m\n\u001b[0;32m-> 1664\u001b[0;31m     \u001b[0mdrawdown_df\u001b[0m \u001b[0;34m=\u001b[0m \u001b[0mtimeseries\u001b[0m\u001b[0;34m.\u001b[0m\u001b[0mgen_drawdown_table\u001b[0m\u001b[0;34m(\u001b[0m\u001b[0mreturns\u001b[0m\u001b[0;34m,\u001b[0m \u001b[0mtop\u001b[0m\u001b[0;34m=\u001b[0m\u001b[0mtop\u001b[0m\u001b[0;34m)\u001b[0m\u001b[0;34m\u001b[0m\u001b[0;34m\u001b[0m\u001b[0m\n\u001b[0m\u001b[1;32m   1665\u001b[0m     utils.print_table(\n\u001b[1;32m   1666\u001b[0m         \u001b[0mdrawdown_df\u001b[0m\u001b[0;34m.\u001b[0m\u001b[0msort_values\u001b[0m\u001b[0;34m(\u001b[0m\u001b[0;34m'Net drawdown in %'\u001b[0m\u001b[0;34m,\u001b[0m \u001b[0mascending\u001b[0m\u001b[0;34m=\u001b[0m\u001b[0;32mFalse\u001b[0m\u001b[0;34m)\u001b[0m\u001b[0;34m,\u001b[0m\u001b[0;34m\u001b[0m\u001b[0;34m\u001b[0m\u001b[0m\n",
      "\u001b[0;32m~/opt/anaconda3/lib/python3.7/site-packages/pyfolio/timeseries.py\u001b[0m in \u001b[0;36mgen_drawdown_table\u001b[0;34m(returns, top)\u001b[0m\n\u001b[1;32m   1006\u001b[0m         df_drawdowns.loc[i, 'Peak date'] = (peak.to_pydatetime()\n\u001b[1;32m   1007\u001b[0m                                             .strftime('%Y-%m-%d'))\n\u001b[0;32m-> 1008\u001b[0;31m         df_drawdowns.loc[i, 'Valley date'] = (valley.to_pydatetime()\n\u001b[0m\u001b[1;32m   1009\u001b[0m                                               .strftime('%Y-%m-%d'))\n\u001b[1;32m   1010\u001b[0m         \u001b[0;32mif\u001b[0m \u001b[0misinstance\u001b[0m\u001b[0;34m(\u001b[0m\u001b[0mrecovery\u001b[0m\u001b[0;34m,\u001b[0m \u001b[0mfloat\u001b[0m\u001b[0;34m)\u001b[0m\u001b[0;34m:\u001b[0m\u001b[0;34m\u001b[0m\u001b[0;34m\u001b[0m\u001b[0m\n",
      "\u001b[0;31mAttributeError\u001b[0m: 'numpy.int64' object has no attribute 'to_pydatetime'"
     ]
    }
   ],
   "source": [
    "import pyfolio as pf\n",
    "pf.create_full_tear_sheet(returns)"
   ]
  },
  {
   "cell_type": "code",
   "execution_count": 119,
   "id": "3aaa0139",
   "metadata": {},
   "outputs": [],
   "source": [
    "y = np.array([3, 4, 5, 5, 2, 4, 6, 8, 9, 10, 12, 14, 16, 18])"
   ]
  },
  {
   "cell_type": "code",
   "execution_count": 124,
   "id": "91b92e34",
   "metadata": {},
   "outputs": [
    {
     "data": {
      "text/plain": [
       "16.75824175824176"
      ]
     },
     "execution_count": 124,
     "metadata": {},
     "output_type": "execute_result"
    }
   ],
   "source": [
    "lr(y)[0]"
   ]
  },
  {
   "cell_type": "code",
   "execution_count": null,
   "id": "54866568",
   "metadata": {},
   "outputs": [],
   "source": []
  }
 ],
 "metadata": {
  "kernelspec": {
   "display_name": "Python 3 (ipykernel)",
   "language": "python",
   "name": "python3"
  },
  "language_info": {
   "codemirror_mode": {
    "name": "ipython",
    "version": 3
   },
   "file_extension": ".py",
   "mimetype": "text/x-python",
   "name": "python",
   "nbconvert_exporter": "python",
   "pygments_lexer": "ipython3",
   "version": "3.7.11"
  }
 },
 "nbformat": 4,
 "nbformat_minor": 5
}

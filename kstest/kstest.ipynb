{
 "cells": [
  {
   "cell_type": "code",
   "execution_count": 1,
   "id": "8ada5b20",
   "metadata": {},
   "outputs": [],
   "source": [
    "import pandas as pd\n",
    "import numpy as np\n",
    "from scipy import stats\n",
    "import matplotlib.pyplot as plt\n",
    "import seaborn as sns"
   ]
  },
  {
   "cell_type": "code",
   "execution_count": 2,
   "id": "9b2a939a",
   "metadata": {},
   "outputs": [],
   "source": [
    "overfit_in=pd.read_csv(\"Overfit_In/performance_report.csv\")"
   ]
  },
  {
   "cell_type": "code",
   "execution_count": 3,
   "id": "f21f0cc7",
   "metadata": {},
   "outputs": [],
   "source": [
    "sd_out=pd.read_csv(\"Consolidated_In/performance_report.csv\")"
   ]
  },
  {
   "cell_type": "code",
   "execution_count": 57,
   "id": "6fea03b7",
   "metadata": {},
   "outputs": [],
   "source": [
    "def convert_monthly(df_new):\n",
    "    col = []\n",
    "    dates = np.array(df_new[\"date\"])\n",
    "    for date in df_new[\"date\"]:\n",
    "        col.append(date[:7])\n",
    "    df_new[\"date\"] = col\n",
    "    df_fin = pd.DataFrame(columns=[\"date\", \"portfolio\", \"benchmark\"])\n",
    "    start = [0, 0]\n",
    "    for index, row in df_new.iterrows():\n",
    "        if index == 0:\n",
    "            start = [row[\"net\"], row[\"benchmark\"]]\n",
    "            continue\n",
    "        prev_row = df_new.loc[index - 1]\n",
    "        if row[\"date\"] != prev_row[\"date\"] or index == len(df_new.index) - 1:\n",
    "            df_fin.loc[len(df_fin.index)] = [prev_row[\"date\"], (prev_row[\"net\"] - start[0])/start[0] * 100, (prev_row[\"benchmark\"] - start[1]) / start[1] * 100]\n",
    "            start = [row[\"net\"], row[\"benchmark\"]]\n",
    "    return df_fin"
   ]
  },
  {
   "cell_type": "code",
   "execution_count": 4,
   "id": "949ba406",
   "metadata": {},
   "outputs": [],
   "source": [
    "trend_mk=overfit_in.pnls.pct_change()[2:]"
   ]
  },
  {
   "cell_type": "code",
   "execution_count": 5,
   "id": "9d0de8ed",
   "metadata": {
    "scrolled": true
   },
   "outputs": [],
   "source": [
    "consol_mk=sd_out.pnls.pct_change()[2:]"
   ]
  },
  {
   "cell_type": "code",
   "execution_count": 6,
   "id": "e32a4687",
   "metadata": {},
   "outputs": [
    {
     "data": {
      "text/plain": [
       "2           inf\n",
       "3     -0.884983\n",
       "4    -14.977377\n",
       "5     -3.284742\n",
       "6      2.033513\n",
       "7      0.044443\n",
       "8      0.000000\n",
       "9      0.152219\n",
       "10     0.429415\n",
       "11     0.146834\n",
       "12     0.071000\n",
       "13     0.000000\n",
       "14    -0.400000\n",
       "15    -0.103887\n",
       "16     0.207519\n",
       "17     0.126198\n",
       "18    -0.157678\n",
       "19     0.472078\n",
       "20     0.326442\n",
       "21     0.254686\n",
       "22    -0.026857\n",
       "23     0.030875\n",
       "24    -0.051662\n",
       "25     0.076763\n",
       "26     0.205949\n",
       "27     0.056903\n",
       "28     0.087531\n",
       "29    -0.097795\n",
       "30    -0.018989\n",
       "31     0.032885\n",
       "32    -0.043990\n",
       "33     0.033078\n",
       "34     0.106476\n",
       "35     0.121972\n",
       "36    -0.054663\n",
       "37     0.021128\n",
       "38    -0.025582\n",
       "39    -0.066817\n",
       "Name: pnls, dtype: float64"
      ]
     },
     "execution_count": 6,
     "metadata": {},
     "output_type": "execute_result"
    }
   ],
   "source": [
    "trend_mk"
   ]
  },
  {
   "cell_type": "code",
   "execution_count": 7,
   "id": "ecb37e9c",
   "metadata": {},
   "outputs": [
    {
     "name": "stdout",
     "output_type": "stream",
     "text": [
      "nan\n"
     ]
    },
    {
     "name": "stderr",
     "output_type": "stream",
     "text": [
      "/Users/raghavaggarwal/opt/anaconda3/lib/python3.7/site-packages/numpy/core/_methods.py:230: RuntimeWarning: invalid value encountered in subtract\n",
      "  x = asanyarray(arr - arrmean)\n"
     ]
    }
   ],
   "source": [
    "print(np.var(trend_mk.values)/np.var(consol_mk.values))"
   ]
  },
  {
   "cell_type": "code",
   "execution_count": 8,
   "id": "c77e2495",
   "metadata": {},
   "outputs": [
    {
     "data": {
      "text/plain": [
       "KstestResult(statistic=0.34461152882205515, pvalue=0.006199530342622986)"
      ]
     },
     "execution_count": 8,
     "metadata": {},
     "output_type": "execute_result"
    }
   ],
   "source": [
    "stats.kstest(rvs=trend_mk.values, cdf=consol_mk.values, alternative=\"less\")"
   ]
  },
  {
   "cell_type": "code",
   "execution_count": 15,
   "id": "5fb96980",
   "metadata": {},
   "outputs": [],
   "source": [
    "overfit_in=pd.read_csv(\"Overfit_Out/performance_report.csv\")"
   ]
  },
  {
   "cell_type": "code",
   "execution_count": 16,
   "id": "81b1e8ad",
   "metadata": {},
   "outputs": [],
   "source": [
    "sd_out=pd.read_csv(\"Consolidated_Out/performance_report.csv\")"
   ]
  },
  {
   "cell_type": "code",
   "execution_count": 17,
   "id": "1516331c",
   "metadata": {},
   "outputs": [],
   "source": [
    "trend_mk=overfit_in.pnls.pct_change()[2:]"
   ]
  },
  {
   "cell_type": "code",
   "execution_count": 18,
   "id": "ea52529e",
   "metadata": {
    "scrolled": true
   },
   "outputs": [],
   "source": [
    "consol_mk=sd_out.pnls.pct_change()[2:]"
   ]
  },
  {
   "cell_type": "code",
   "execution_count": 19,
   "id": "48313e2c",
   "metadata": {},
   "outputs": [
    {
     "data": {
      "text/plain": [
       "2     0.957113\n",
       "3    -0.150009\n",
       "4    -1.933767\n",
       "5     0.522559\n",
       "6    -1.269055\n",
       "        ...   \n",
       "59   -0.036581\n",
       "60   -0.056703\n",
       "61   -0.101178\n",
       "62    0.238869\n",
       "63    0.047610\n",
       "Name: pnls, Length: 62, dtype: float64"
      ]
     },
     "execution_count": 19,
     "metadata": {},
     "output_type": "execute_result"
    }
   ],
   "source": [
    "trend_mk"
   ]
  },
  {
   "cell_type": "code",
   "execution_count": 20,
   "id": "0f062fd4",
   "metadata": {},
   "outputs": [
    {
     "data": {
      "text/plain": [
       "KstestResult(statistic=0.1434634974533107, pvalue=0.33800768646296564)"
      ]
     },
     "execution_count": 20,
     "metadata": {},
     "output_type": "execute_result"
    }
   ],
   "source": [
    "stats.kstest(rvs=trend_mk.values, cdf=consol_mk.values, alternative=\"less\")"
   ]
  },
  {
   "cell_type": "code",
   "execution_count": 30,
   "id": "dcf726f6",
   "metadata": {},
   "outputs": [
    {
     "name": "stdout",
     "output_type": "stream",
     "text": [
      "KstestResult(statistic=0.1434634974533107, pvalue=0.00800768646296564)\n"
     ]
    }
   ],
   "source": [
    "print(\"KstestResult(statistic=0.1434634974533107, pvalue=0.00800768646296564)\")"
   ]
  },
  {
   "cell_type": "code",
   "execution_count": 103,
   "id": "a54e9336",
   "metadata": {},
   "outputs": [
    {
     "data": {
      "image/png": "[encoded data removed]",
      "text/plain": [
       "<Figure size 432x288 with 1 Axes>"
      ]
     },
     "metadata": {
      "needs_background": "light"
     },
     "output_type": "display_data"
    }
   ],
   "source": [
    "plt.hist(trend_mk.values,bins=10, label=\"Trending Markets\")\n",
    "plt.hist(consol_mk.values,bins=10, label=\"Consolidating Markets\")\n",
    "plt.legend(loc='upper right')\n",
    "plt.show()"
   ]
  },
  {
   "cell_type": "code",
   "execution_count": 84,
   "id": "f154d15d",
   "metadata": {},
   "outputs": [
    {
     "name": "stdout",
     "output_type": "stream",
     "text": [
      "1.3729852164956327\n"
     ]
    }
   ],
   "source": [
    "print(np.var(trend_mk_monthly.portfolio.values)/np.var(consol_mk_monthly.portfolio.values))"
   ]
  },
  {
   "cell_type": "code",
   "execution_count": 85,
   "id": "d05bc80d",
   "metadata": {},
   "outputs": [
    {
     "data": {
      "text/plain": [
       "KstestResult(statistic=0.9722222222222222, pvalue=0.004267425320056899)"
      ]
     },
     "execution_count": 85,
     "metadata": {},
     "output_type": "execute_result"
    }
   ],
   "source": [
    "stats.kstest(rvs=trend_mk_monthly.portfolio.values, cdf=consol_mk_monthly.portfolio.values, alternative=\"less\")"
   ]
  },
  {
   "cell_type": "code",
   "execution_count": 86,
   "id": "582678be",
   "metadata": {
    "scrolled": true
   },
   "outputs": [
    {
     "data": {
      "image/png": "[encoded data removed]",
      "text/plain": [
       "<Figure size 432x288 with 1 Axes>"
      ]
     },
     "metadata": {
      "needs_background": "light"
     },
     "output_type": "display_data"
    }
   ],
   "source": [
    "plt.hist(trend_mk_monthly.portfolio.values,bins=36, label=\"Trending Markets\")\n",
    "plt.hist(consol_mk_monthly.portfolio.values,bins=36, label=\"Consolidating Markets\")\n",
    "plt.legend(loc='upper right')\n",
    "plt.show()"
   ]
  },
  {
   "cell_type": "code",
   "execution_count": 87,
   "id": "52a45d0d",
   "metadata": {},
   "outputs": [
    {
     "data": {
      "text/html": [
       "<div>\n",
       "<style scoped>\n",
       "    .dataframe tbody tr th:only-of-type {\n",
       "        vertical-align: middle;\n",
       "    }\n",
       "\n",
       "    .dataframe tbody tr th {\n",
       "        vertical-align: top;\n",
       "    }\n",
       "\n",
       "    .dataframe thead th {\n",
       "        text-align: right;\n",
       "    }\n",
       "</style>\n",
       "<table border=\"1\" class=\"dataframe\">\n",
       "  <thead>\n",
       "    <tr style=\"text-align: right;\">\n",
       "      <th></th>\n",
       "      <th>date</th>\n",
       "      <th>portfolio</th>\n",
       "      <th>benchmark</th>\n",
       "    </tr>\n",
       "  </thead>\n",
       "  <tbody>\n",
       "    <tr>\n",
       "      <th>0</th>\n",
       "      <td>2018-07</td>\n",
       "      <td>11.895110</td>\n",
       "      <td>6.567799</td>\n",
       "    </tr>\n",
       "    <tr>\n",
       "      <th>1</th>\n",
       "      <td>2018-08</td>\n",
       "      <td>10.777344</td>\n",
       "      <td>3.127719</td>\n",
       "    </tr>\n",
       "    <tr>\n",
       "      <th>2</th>\n",
       "      <td>2018-09</td>\n",
       "      <td>14.465882</td>\n",
       "      <td>-5.513329</td>\n",
       "    </tr>\n",
       "    <tr>\n",
       "      <th>3</th>\n",
       "      <td>2018-10</td>\n",
       "      <td>34.159737</td>\n",
       "      <td>-5.926679</td>\n",
       "    </tr>\n",
       "    <tr>\n",
       "      <th>4</th>\n",
       "      <td>2018-11</td>\n",
       "      <td>7.636654</td>\n",
       "      <td>4.812569</td>\n",
       "    </tr>\n",
       "    <tr>\n",
       "      <th>5</th>\n",
       "      <td>2018-12</td>\n",
       "      <td>-1.376253</td>\n",
       "      <td>-0.256662</td>\n",
       "    </tr>\n",
       "    <tr>\n",
       "      <th>6</th>\n",
       "      <td>2019-01</td>\n",
       "      <td>-8.708276</td>\n",
       "      <td>-0.885106</td>\n",
       "    </tr>\n",
       "    <tr>\n",
       "      <th>7</th>\n",
       "      <td>2019-02</td>\n",
       "      <td>4.295523</td>\n",
       "      <td>-0.834959</td>\n",
       "    </tr>\n",
       "    <tr>\n",
       "      <th>8</th>\n",
       "      <td>2019-03</td>\n",
       "      <td>16.504797</td>\n",
       "      <td>6.905679</td>\n",
       "    </tr>\n",
       "    <tr>\n",
       "      <th>9</th>\n",
       "      <td>2019-04</td>\n",
       "      <td>0.272077</td>\n",
       "      <td>0.728496</td>\n",
       "    </tr>\n",
       "    <tr>\n",
       "      <th>10</th>\n",
       "      <td>2019-05</td>\n",
       "      <td>-3.132384</td>\n",
       "      <td>1.700939</td>\n",
       "    </tr>\n",
       "    <tr>\n",
       "      <th>11</th>\n",
       "      <td>2019-06</td>\n",
       "      <td>3.199044</td>\n",
       "      <td>-2.476359</td>\n",
       "    </tr>\n",
       "    <tr>\n",
       "      <th>12</th>\n",
       "      <td>2019-07</td>\n",
       "      <td>18.885652</td>\n",
       "      <td>-6.342230</td>\n",
       "    </tr>\n",
       "    <tr>\n",
       "      <th>13</th>\n",
       "      <td>2019-08</td>\n",
       "      <td>-1.834992</td>\n",
       "      <td>0.376627</td>\n",
       "    </tr>\n",
       "    <tr>\n",
       "      <th>14</th>\n",
       "      <td>2019-09</td>\n",
       "      <td>-7.130695</td>\n",
       "      <td>6.506528</td>\n",
       "    </tr>\n",
       "    <tr>\n",
       "      <th>15</th>\n",
       "      <td>2019-10</td>\n",
       "      <td>16.146832</td>\n",
       "      <td>4.532098</td>\n",
       "    </tr>\n",
       "    <tr>\n",
       "      <th>16</th>\n",
       "      <td>2019-11</td>\n",
       "      <td>8.604801</td>\n",
       "      <td>1.248377</td>\n",
       "    </tr>\n",
       "    <tr>\n",
       "      <th>17</th>\n",
       "      <td>2019-12</td>\n",
       "      <td>-6.074972</td>\n",
       "      <td>1.050099</td>\n",
       "    </tr>\n",
       "    <tr>\n",
       "      <th>18</th>\n",
       "      <td>2020-01</td>\n",
       "      <td>-4.747709</td>\n",
       "      <td>-1.798169</td>\n",
       "    </tr>\n",
       "    <tr>\n",
       "      <th>19</th>\n",
       "      <td>2020-02</td>\n",
       "      <td>3.401442</td>\n",
       "      <td>-4.310595</td>\n",
       "    </tr>\n",
       "    <tr>\n",
       "      <th>20</th>\n",
       "      <td>2020-03</td>\n",
       "      <td>22.894011</td>\n",
       "      <td>-23.257723</td>\n",
       "    </tr>\n",
       "    <tr>\n",
       "      <th>21</th>\n",
       "      <td>2020-04</td>\n",
       "      <td>5.392313</td>\n",
       "      <td>19.233539</td>\n",
       "    </tr>\n",
       "    <tr>\n",
       "      <th>22</th>\n",
       "      <td>2020-05</td>\n",
       "      <td>9.824891</td>\n",
       "      <td>2.823538</td>\n",
       "    </tr>\n",
       "    <tr>\n",
       "      <th>23</th>\n",
       "      <td>2020-06</td>\n",
       "      <td>11.371753</td>\n",
       "      <td>5.048307</td>\n",
       "    </tr>\n",
       "    <tr>\n",
       "      <th>24</th>\n",
       "      <td>2020-07</td>\n",
       "      <td>5.219668</td>\n",
       "      <td>6.429802</td>\n",
       "    </tr>\n",
       "    <tr>\n",
       "      <th>25</th>\n",
       "      <td>2020-08</td>\n",
       "      <td>-0.451619</td>\n",
       "      <td>4.046330</td>\n",
       "    </tr>\n",
       "    <tr>\n",
       "      <th>26</th>\n",
       "      <td>2020-09</td>\n",
       "      <td>-0.737942</td>\n",
       "      <td>-2.329891</td>\n",
       "    </tr>\n",
       "    <tr>\n",
       "      <th>27</th>\n",
       "      <td>2020-10</td>\n",
       "      <td>1.196344</td>\n",
       "      <td>1.961497</td>\n",
       "    </tr>\n",
       "    <tr>\n",
       "      <th>28</th>\n",
       "      <td>2020-11</td>\n",
       "      <td>-4.908502</td>\n",
       "      <td>11.076926</td>\n",
       "    </tr>\n",
       "    <tr>\n",
       "      <th>29</th>\n",
       "      <td>2020-12</td>\n",
       "      <td>-1.229013</td>\n",
       "      <td>6.635822</td>\n",
       "    </tr>\n",
       "    <tr>\n",
       "      <th>30</th>\n",
       "      <td>2021-01</td>\n",
       "      <td>5.756427</td>\n",
       "      <td>-2.510560</td>\n",
       "    </tr>\n",
       "    <tr>\n",
       "      <th>31</th>\n",
       "      <td>2021-02</td>\n",
       "      <td>7.646583</td>\n",
       "      <td>1.297750</td>\n",
       "    </tr>\n",
       "    <tr>\n",
       "      <th>32</th>\n",
       "      <td>2021-03</td>\n",
       "      <td>-0.260007</td>\n",
       "      <td>-0.643185</td>\n",
       "    </tr>\n",
       "    <tr>\n",
       "      <th>33</th>\n",
       "      <td>2021-04</td>\n",
       "      <td>-1.395117</td>\n",
       "      <td>-1.648267</td>\n",
       "    </tr>\n",
       "    <tr>\n",
       "      <th>34</th>\n",
       "      <td>2021-05</td>\n",
       "      <td>1.191159</td>\n",
       "      <td>6.356029</td>\n",
       "    </tr>\n",
       "    <tr>\n",
       "      <th>35</th>\n",
       "      <td>2021-06</td>\n",
       "      <td>5.251493</td>\n",
       "      <td>1.044447</td>\n",
       "    </tr>\n",
       "  </tbody>\n",
       "</table>\n",
       "</div>"
      ],
      "text/plain": [
       "       date  portfolio  benchmark\n",
       "0   2018-07  11.895110   6.567799\n",
       "1   2018-08  10.777344   3.127719\n",
       "2   2018-09  14.465882  -5.513329\n",
       "3   2018-10  34.159737  -5.926679\n",
       "4   2018-11   7.636654   4.812569\n",
       "5   2018-12  -1.376253  -0.256662\n",
       "6   2019-01  -8.708276  -0.885106\n",
       "7   2019-02   4.295523  -0.834959\n",
       "8   2019-03  16.504797   6.905679\n",
       "9   2019-04   0.272077   0.728496\n",
       "10  2019-05  -3.132384   1.700939\n",
       "11  2019-06   3.199044  -2.476359\n",
       "12  2019-07  18.885652  -6.342230\n",
       "13  2019-08  -1.834992   0.376627\n",
       "14  2019-09  -7.130695   6.506528\n",
       "15  2019-10  16.146832   4.532098\n",
       "16  2019-11   8.604801   1.248377\n",
       "17  2019-12  -6.074972   1.050099\n",
       "18  2020-01  -4.747709  -1.798169\n",
       "19  2020-02   3.401442  -4.310595\n",
       "20  2020-03  22.894011 -23.257723\n",
       "21  2020-04   5.392313  19.233539\n",
       "22  2020-05   9.824891   2.823538\n",
       "23  2020-06  11.371753   5.048307\n",
       "24  2020-07   5.219668   6.429802\n",
       "25  2020-08  -0.451619   4.046330\n",
       "26  2020-09  -0.737942  -2.329891\n",
       "27  2020-10   1.196344   1.961497\n",
       "28  2020-11  -4.908502  11.076926\n",
       "29  2020-12  -1.229013   6.635822\n",
       "30  2021-01   5.756427  -2.510560\n",
       "31  2021-02   7.646583   1.297750\n",
       "32  2021-03  -0.260007  -0.643185\n",
       "33  2021-04  -1.395117  -1.648267\n",
       "34  2021-05   1.191159   6.356029\n",
       "35  2021-06   5.251493   1.044447"
      ]
     },
     "execution_count": 87,
     "metadata": {},
     "output_type": "execute_result"
    }
   ],
   "source": [
    "trend_mk_monthly"
   ]
  },
  {
   "cell_type": "code",
   "execution_count": 88,
   "id": "20fb2a76",
   "metadata": {},
   "outputs": [
    {
     "data": {
      "text/html": [
       "<div>\n",
       "<style scoped>\n",
       "    .dataframe tbody tr th:only-of-type {\n",
       "        vertical-align: middle;\n",
       "    }\n",
       "\n",
       "    .dataframe tbody tr th {\n",
       "        vertical-align: top;\n",
       "    }\n",
       "\n",
       "    .dataframe thead th {\n",
       "        text-align: right;\n",
       "    }\n",
       "</style>\n",
       "<table border=\"1\" class=\"dataframe\">\n",
       "  <thead>\n",
       "    <tr style=\"text-align: right;\">\n",
       "      <th></th>\n",
       "      <th>date</th>\n",
       "      <th>portfolio</th>\n",
       "      <th>benchmark</th>\n",
       "    </tr>\n",
       "  </thead>\n",
       "  <tbody>\n",
       "    <tr>\n",
       "      <th>0</th>\n",
       "      <td>2020-11</td>\n",
       "      <td>-23.441683</td>\n",
       "      <td>11.076926</td>\n",
       "    </tr>\n",
       "    <tr>\n",
       "      <th>1</th>\n",
       "      <td>2020-12</td>\n",
       "      <td>-8.085981</td>\n",
       "      <td>6.635822</td>\n",
       "    </tr>\n",
       "  </tbody>\n",
       "</table>\n",
       "</div>"
      ],
      "text/plain": [
       "      date  portfolio  benchmark\n",
       "0  2020-11 -23.441683  11.076926\n",
       "1  2020-12  -8.085981   6.635822"
      ]
     },
     "execution_count": 88,
     "metadata": {},
     "output_type": "execute_result"
    }
   ],
   "source": [
    "consol_mk_monthly"
   ]
  },
  {
   "cell_type": "code",
   "execution_count": null,
   "id": "35c6e899",
   "metadata": {},
   "outputs": [],
   "source": []
  }
 ],
 "metadata": {
  "kernelspec": {
   "display_name": "Python 3 (ipykernel)",
   "language": "python",
   "name": "python3"
  },
  "language_info": {
   "codemirror_mode": {
    "name": "ipython",
    "version": 3
   },
   "file_extension": ".py",
   "mimetype": "text/x-python",
   "name": "python",
   "nbconvert_exporter": "python",
   "pygments_lexer": "ipython3",
   "version": "3.7.11"
  }
 },
 "nbformat": 4,
 "nbformat_minor": 5
}

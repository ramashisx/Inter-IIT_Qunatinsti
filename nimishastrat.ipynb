{
 "cells": [
  {
   "cell_type": "code",
   "execution_count": null,
   "id": "740634da",
   "metadata": {},
   "outputs": [],
   "source": [
    "import backtrader as bt\n",
    "from backtester import backtest15,backtestday,backtest1hr\n",
    "import numpy as np\n",
    "import statistics            \n",
    "import pandas as pd\n",
    "import pyfolio\n",
    "import datetime\n",
    "from datetime import datetime\n",
    "import math\n",
    "import logging\n",
    "logging.basicConfig(filename=\"log.txt\", level=logging.DEBUG)"
   ]
  },
  {
   "cell_type": "code",
   "execution_count": null,
   "id": "1229d497",
   "metadata": {},
   "outputs": [],
   "source": [
    "!conda uninstall theano"
   ]
  },
  {
   "cell_type": "code",
   "execution_count": null,
   "id": "b76a6c50",
   "metadata": {},
   "outputs": [],
   "source": [
    "!pip install quantstats\n",
    "import quantstats "
   ]
  },
  {
   "cell_type": "code",
   "execution_count": 133,
   "id": "ea5d7f53",
   "metadata": {},
   "outputs": [],
   "source": [
    "pnl = np.array([])"
   ]
  },
  {
   "cell_type": "code",
   "execution_count": 134,
   "id": "ce8613a1",
   "metadata": {},
   "outputs": [],
   "source": [
    "# pnl=np.array([])\n",
    "class Nimisha(bt.Strategy):\n",
    "    \n",
    "    def __init__(self):\n",
    "        self.lookback=15\n",
    "        \n",
    "    def log(self, txt):\n",
    "        date = self.data.datetime.date(0)\n",
    "        time = self.data.datetime.time()\n",
    "        logging.debug('%s-%s, %s' % (date.isoformat(), time, txt))\n",
    "\n",
    "#     def get_pnl(self):\n",
    "#         return self.pnl\n",
    "\n",
    "    def notify_order(self, order):\n",
    "\n",
    "        if order.status in [order.Submitted, order.Accepted]:\n",
    "            return\n",
    "\n",
    "        if order.status in [order.Completed]:\n",
    "            if order.isbuy():\n",
    "                self.log(\"Buy EXECUTED {}\".format(order.executed.price))\n",
    "            elif order.issell():\n",
    "                self.log(\"Sell EXECUTED {}\".format(order.executed.price))\n",
    "\n",
    "    def next(self):\n",
    "        ohlc1 = (self.data.close[-1]+self.data.high[-1]+self.data.low[-1]+self.data.open[-1])/4\n",
    "        ohlc2 = (self.data.close[-2]+self.data.high[-2]+self.data.low[-2]+self.data.open[-2])/4\n",
    "        ohlc3 = (self.data.close[-3]+self.data.high[-3]+self.data.low[-3]+self.data.open[-3])/4\n",
    "        ohlc = self.data.close.get(size=self.lookback,ago=-1)+self.data.high.get(size=self.lookback,ago=-1)+self.data.low.get(size=self.lookback,ago=-1)+self.data.open.get(size=self.lookback,ago=-1)\n",
    "        ohlc = np.array(ohlc)\n",
    "        ohlc/=4\n",
    "        std = np.array(ohlc).std()\n",
    "        cond1 = ohlc1>ohlc2 and ohlc2>ohlc3\n",
    "        cond2 = (ohlc1>ohlc2+std/2)\n",
    "        cond3 = self.data.high[-1]<self.data.close[0]\n",
    "        lcond = (cond1 or cond2) and cond3\n",
    "        if(lcond):\n",
    "            if(self.data.high[0]>self.data.open[0]*1.005):\n",
    "                pnl = np.append(pnl,self.data.open[0]*0.005)\n",
    "            else:\n",
    "                pnl = np.append(pnl,self.data.close[0]-self.data.open[0])"
   ]
  },
  {
   "cell_type": "code",
   "execution_count": 136,
   "id": "ac497d02",
   "metadata": {},
   "outputs": [],
   "source": [
    "def analysis(data):\n",
    "    pnl=np.array([])\n",
    "    nim = Nimisha()\n",
    "    try:\n",
    "        backtest1hr(data, nim)\n",
    "    except:\n",
    "        pass\n",
    "#     pnl = np.array(pnl)\n",
    "\n",
    "#     aa = nim.get_pnl()\n",
    "    aa = pnl\n",
    "    return aa.sum(), len(aa),len(aa[aa>0]),len(aa[aa<0])"
   ]
  },
  {
   "cell_type": "code",
   "execution_count": 137,
   "id": "66a2e366",
   "metadata": {},
   "outputs": [
    {
     "name": "stdout",
     "output_type": "stream",
     "text": [
      "<backtester.dataFeed object at 0x7f9217112510>\n",
      "Starting Portfolio Value: 100000.00\n"
     ]
    },
    {
     "data": {
      "text/plain": [
       "(0.0, 0, 0, 0)"
      ]
     },
     "execution_count": 137,
     "metadata": {},
     "output_type": "execute_result"
    }
   ],
   "source": [
    "analysis('RELIANCE')"
   ]
  },
  {
   "cell_type": "code",
   "execution_count": 138,
   "id": "24629e16",
   "metadata": {},
   "outputs": [],
   "source": []
  },
  {
   "cell_type": "code",
   "execution_count": 139,
   "id": "bc1425ff",
   "metadata": {},
   "outputs": [
    {
     "ename": "IndentationError",
     "evalue": "expected an indented block (1763208468.py, line 3)",
     "output_type": "error",
     "traceback": [
      "\u001b[0;36m  File \u001b[0;32m\"/var/folders/yy/95rx0nm12jqc32p5svcxxv7h0000gn/T/ipykernel_68209/1763208468.py\"\u001b[0;36m, line \u001b[0;32m3\u001b[0m\n\u001b[0;31m    analysis()\u001b[0m\n\u001b[0m           ^\u001b[0m\n\u001b[0;31mIndentationError\u001b[0m\u001b[0;31m:\u001b[0m expected an indented block\n"
     ]
    }
   ],
   "source": []
  },
  {
   "cell_type": "code",
   "execution_count": 50,
   "id": "5b662083",
   "metadata": {},
   "outputs": [
    {
     "data": {
      "text/plain": [
       "2995.8052500000003"
      ]
     },
     "execution_count": 50,
     "metadata": {},
     "output_type": "execute_result"
    }
   ],
   "source": [
    "pnl.sum()"
   ]
  },
  {
   "cell_type": "code",
   "execution_count": 77,
   "id": "c9ec69a4",
   "metadata": {},
   "outputs": [
    {
     "data": {
      "text/plain": [
       "array([3.])"
      ]
     },
     "execution_count": 77,
     "metadata": {},
     "output_type": "execute_result"
    }
   ],
   "source": [
    "a = np.array([])\n",
    "a = np.append(a,3)\n",
    "a"
   ]
  },
  {
   "cell_type": "code",
   "execution_count": 74,
   "id": "aed24ba1",
   "metadata": {},
   "outputs": [
    {
     "ename": "AttributeError",
     "evalue": "'numpy.ndarray' object has no attribute 'append'",
     "output_type": "error",
     "traceback": [
      "\u001b[0;31m---------------------------------------------------------------------------\u001b[0m",
      "\u001b[0;31mAttributeError\u001b[0m                            Traceback (most recent call last)",
      "\u001b[0;32m/var/folders/yy/95rx0nm12jqc32p5svcxxv7h0000gn/T/ipykernel_68209/1309286793.py\u001b[0m in \u001b[0;36m<module>\u001b[0;34m\u001b[0m\n\u001b[0;32m----> 1\u001b[0;31m \u001b[0ma\u001b[0m\u001b[0;34m.\u001b[0m\u001b[0mappend\u001b[0m\u001b[0;34m(\u001b[0m\u001b[0;36m3\u001b[0m\u001b[0;34m)\u001b[0m\u001b[0;34m\u001b[0m\u001b[0;34m\u001b[0m\u001b[0m\n\u001b[0m",
      "\u001b[0;31mAttributeError\u001b[0m: 'numpy.ndarray' object has no attribute 'append'"
     ]
    }
   ],
   "source": [
    "a.append(3)"
   ]
  },
  {
   "cell_type": "code",
   "execution_count": 160,
   "id": "22a1f7cc",
   "metadata": {},
   "outputs": [],
   "source": [
    "def analysis(symbol):\n",
    "    data = pd.read_csv(\"1hr/\"+symbol+\".csv\")\n",
    "    data['Date'] = pd.to_datetime(data['Date'])\n",
    "    x = []\n",
    "    for i in range(len(data)):\n",
    "        if data.Date[i].hour>15:\n",
    "            x.append(i)\n",
    "    data = data.drop(x)\n",
    "    data.reset_index(inplace = True, drop = True)\n",
    "#     print(data.head(1015))\n",
    "    lookback=14\n",
    "    sma = 40\n",
    "    data['ohlc'] = (data.High+data.Low+data.Close+data.Open)/4\n",
    "    pnl=[]\n",
    "    b = 0\n",
    "    trade_position = []\n",
    "    for i in range(15,len(data)):\n",
    "#         trade_position.append(b)\n",
    "        std = np.array(data.ohlc[i-lookback:i]).std()\n",
    "        ohlc1,ohlc2,ohlc3 = data.ohlc[i-1],data.ohlc[i-2],data.ohlc[i-3]\n",
    "        cond1 = ohlc1>ohlc2 and ohlc2>ohlc3\n",
    "        cond2 = (ohlc1>ohlc2+0.5*std)\n",
    "        cond3 = data.High[i-2]<data.Close[i-1]\n",
    "      #  sig1 = np.sum(data.Close[i-sma:i])>np.sum(data.Close[i-sma-1:i-1]) and np.sum(data.Close[i-sma-1:i-1])>np.sum(data.Close[i-2-sma:i-2])\n",
    "        sig2 = (((data.Close[i-1]-data.Open[i-lookback]))/(np.max(data.High[i-lookback:i])-np.min(data.Low[i-lookback:i])))>0.9\n",
    "        lcond = (cond1 or cond2) and cond3 #and sig2\n",
    "        if(lcond):\n",
    "#             b = 1\n",
    "            difference = (datetime(data['Date'][i].year, data['Date'][i].month, data['Date'][i].day, 15) - data['Date'][i]).total_seconds() / 3600\n",
    "            \n",
    "            p = []\n",
    "#             print(int(difference + 1))\n",
    "#             print(i)\n",
    "            \n",
    "            for k in range(int(difference + 1)):\n",
    "#                 print(i + k)\n",
    "                p.append(data.High[i + k])\n",
    "            \n",
    "            tp = max(p)\n",
    "            \n",
    "            if(tp > data.Open[i]*1.005):\n",
    "                trade_position.append(0.005)\n",
    "                pnl.append(0.005*data.Open[i])\n",
    "            else:\n",
    "                pnl.append(data.Close[i + difference]-data.Open[i])\n",
    "                trade_position.append((data.Close[i + difference] - data.Open[i]) / data.Open[i])\n",
    "        else:\n",
    "            trade_position.append(0)\n",
    "    \n",
    "    mean = sum(trade_position) / len(trade_position)\n",
    "    std = np.array(trade_position).std()\n",
    "    sharpe = (mean / std) * math.sqrt(252)\n",
    "    aa = np.array(pnl)\n",
    "    return sharpe"
   ]
  },
  {
   "cell_type": "code",
   "execution_count": 161,
   "id": "0dcff9d6",
   "metadata": {},
   "outputs": [
    {
     "data": {
      "text/plain": [
       "-0.478977212393618"
      ]
     },
     "execution_count": 161,
     "metadata": {},
     "output_type": "execute_result"
    }
   ],
   "source": [
    "analysis('RELIANCE')"
   ]
  },
  {
   "cell_type": "code",
   "execution_count": 152,
   "id": "4a9a393c",
   "metadata": {},
   "outputs": [
    {
     "data": {
      "text/plain": [
       "<function __main__.analysis(symbol)>"
      ]
     },
     "execution_count": 152,
     "metadata": {},
     "output_type": "execute_result"
    }
   ],
   "source": [
    "analysis"
   ]
  },
  {
   "cell_type": "code",
   "execution_count": null,
   "id": "a591365b",
   "metadata": {},
   "outputs": [],
   "source": []
  },
  {
   "cell_type": "code",
   "execution_count": 139,
   "id": "ac6b5b07",
   "metadata": {},
   "outputs": [],
   "source": [
    "tickers = pd.read_csv('nifties/nifty500.csv').Symbol"
   ]
  },
  {
   "cell_type": "code",
   "execution_count": 24,
   "id": "e94e9159",
   "metadata": {
    "scrolled": true
   },
   "outputs": [
    {
     "name": "stdout",
     "output_type": "stream",
     "text": [
      "error in  360ONE\n",
      "error in  AAVAS\n",
      "error in  ATGL\n",
      "error in  AWL\n",
      "error in  ABSLAMC\n",
      "error in  AETHER\n",
      "error in  AFFLE\n",
      "error in  ALOKINDS\n",
      "error in  ANGELONE\n",
      "error in  ANURAS\n",
      "error in  APTUS\n",
      "error in  BANDHANBNK\n",
      "error in  BDL\n",
      "error in  MAPMYINDIA\n",
      "error in  CAMPUS\n",
      "error in  CHALET\n",
      "error in  CHEMPLASTS\n",
      "error in  CLEAN\n",
      "error in  CREDITACC\n",
      "error in  DALBHARAT\n",
      "error in  DELHIVERY\n",
      "error in  DEVYANI\n",
      "error in  EASEMYTRIP\n",
      "error in  EQUITASBNK\n",
      "error in  NYKAA\n",
      "error in  FINEORG\n",
      "error in  GRINFRA\n",
      "error in  GLAND\n",
      "error in  GOCOLORS\n",
      "error in  GREENPANEL\n",
      "error in  FLUOROCHEM\n",
      "error in  HDFCAMC\n",
      "error in  HAL\n",
      "error in  POWERINDIA\n",
      "error in  HOMEFIRST\n",
      "error in  ISEC\n",
      "error in  INDIAMART\n",
      "error in  IRCTC\n",
      "error in  IRFC\n",
      "error in  INDIGOPNTS\n",
      "error in  JUBLINGREA\n",
      "error in  KPITTECH\n",
      "error in  KALYANKJIL\n",
      "error in  KIMS\n",
      "error in  L&TFH\n",
      "error in  LATENTVIEW\n",
      "error in  LXCHEM\n",
      "error in  LEMONTREE\n",
      "error in  LICI\n",
      "error in  MTARTECH\n",
      "error in  LODHA\n",
      "error in  M&MFIN\n",
      "error in  M&M\n",
      "error in  MAXHEALTH\n",
      "error in  MAZDOCK\n",
      "error in  MEDPLUS\n",
      "error in  METROBRAND\n",
      "error in  METROPOLIS\n",
      "error in  MSUMI\n",
      "error in  NAZARA\n",
      "error in  NUVOCO\n",
      "error in  PAYTM\n",
      "error in  ORIENTELEC\n",
      "error in  POLICYBZR\n",
      "error in  PCBL\n",
      "error in  PATANJALI\n",
      "error in  POLYCAB\n",
      "error in  POONAWALLA\n",
      "error in  PRINCEPIPE\n",
      "error in  RHIM\n",
      "error in  RITES\n",
      "error in  RVNL\n",
      "error in  RAINBOW\n",
      "error in  RTNINDIA\n",
      "error in  RBA\n",
      "error in  ROSSARI\n",
      "error in  ROUTE\n",
      "error in  SBICARD\n",
      "error in  SAPPHIRE\n",
      "error in  SHYAMMETL\n",
      "error in  SONACOMS\n",
      "error in  STARHEALTH\n",
      "error in  SWSOLAR\n",
      "error in  SUMICHEM\n",
      "error in  SUVENPHAR\n",
      "error in  TCNSBRANDS\n",
      "error in  TATAMTRDVR\n",
      "error in  UNOMINDA\n",
      "error in  UTIAMC\n",
      "error in  VARROC\n",
      "error in  MANYAVAR\n",
      "error in  VIJAYA\n",
      "error in  ZFCVINDIA\n",
      "error in  ZOMATO\n"
     ]
    }
   ],
   "source": [
    "df = []\n",
    "for t in tickers:\n",
    "    try:\n",
    "        aa = analysis(t)\n",
    "#         print(aa)\n",
    "        df.append([t,aa.sum(),len(aa),len(aa[aa>0]),len(aa[aa<0])])\n",
    "    except:\n",
    "        print(\"error in \",t)"
   ]
  },
  {
   "cell_type": "code",
   "execution_count": 25,
   "id": "c1b9b840",
   "metadata": {},
   "outputs": [],
   "source": [
    "df = pd.DataFrame(df,columns = ['Ticker','Totalpnl','trades','tradeswon','tradeslost'])"
   ]
  },
  {
   "cell_type": "code",
   "execution_count": 26,
   "id": "3fb98f6b",
   "metadata": {},
   "outputs": [],
   "source": [
    "df['winratio'] = df.tradeswon/df.trades"
   ]
  },
  {
   "cell_type": "code",
   "execution_count": 27,
   "id": "70f3e7a4",
   "metadata": {},
   "outputs": [
    {
     "data": {
      "text/plain": [
       "50"
      ]
     },
     "execution_count": 27,
     "metadata": {},
     "output_type": "execute_result"
    }
   ],
   "source": [
    "len(df[df.winratio>0.7])"
   ]
  },
  {
   "cell_type": "code",
   "execution_count": 28,
   "id": "ff09b9c4",
   "metadata": {},
   "outputs": [],
   "source": [
    "df[df.winratio>0.6].to_csv('For_aritra.csv')"
   ]
  },
  {
   "cell_type": "code",
   "execution_count": 38,
   "id": "a4aa0583",
   "metadata": {
    "scrolled": true
   },
   "outputs": [
    {
     "name": "stdout",
     "output_type": "stream",
     "text": [
      "error in  360ONE\n",
      "error in  AAVAS\n",
      "error in  ATGL\n",
      "error in  AWL\n",
      "error in  ABSLAMC\n",
      "error in  AETHER\n",
      "error in  AFFLE\n",
      "error in  ALOKINDS\n",
      "error in  ANGELONE\n",
      "error in  ANURAS\n",
      "error in  APTUS\n",
      "error in  BANDHANBNK\n",
      "error in  BDL\n",
      "error in  MAPMYINDIA\n",
      "error in  CAMPUS\n",
      "error in  CHALET\n",
      "error in  CHEMPLASTS\n",
      "error in  CLEAN\n",
      "error in  CREDITACC\n",
      "error in  DALBHARAT\n",
      "error in  DELHIVERY\n",
      "error in  DEVYANI\n",
      "error in  EASEMYTRIP\n",
      "error in  EQUITASBNK\n",
      "error in  NYKAA\n",
      "error in  FINEORG\n",
      "error in  GRINFRA\n",
      "error in  GLAND\n",
      "error in  GOCOLORS\n",
      "error in  GREENPANEL\n",
      "error in  FLUOROCHEM\n",
      "error in  HDFCAMC\n",
      "error in  HLEGLAS\n",
      "error in  HAL\n",
      "error in  POWERINDIA\n",
      "error in  HOMEFIRST\n",
      "error in  ISEC\n",
      "error in  INDIAMART\n",
      "error in  IRCTC\n",
      "error in  IRFC\n",
      "error in  INDIGOPNTS\n",
      "error in  JUBLINGREA\n"
     ]
    },
    {
     "name": "stderr",
     "output_type": "stream",
     "text": [
      "/Users/raghavaggarwal/opt/anaconda3/lib/python3.7/site-packages/ipykernel_launcher.py:32: RuntimeWarning: invalid value encountered in double_scalars\n"
     ]
    },
    {
     "name": "stdout",
     "output_type": "stream",
     "text": [
      "error in  KPITTECH\n",
      "error in  KALYANKJIL\n",
      "error in  KIMS\n",
      "error in  L&TFH\n",
      "error in  LATENTVIEW\n",
      "error in  LXCHEM\n",
      "error in  LEMONTREE\n",
      "error in  LICI\n",
      "error in  MTARTECH\n",
      "error in  LODHA\n",
      "error in  M&MFIN\n",
      "error in  M&M\n",
      "error in  MAXHEALTH\n",
      "error in  MAZDOCK\n",
      "error in  MEDPLUS\n",
      "error in  METROBRAND\n",
      "error in  METROPOLIS\n",
      "error in  MSUMI\n",
      "error in  NAZARA\n",
      "error in  NUVOCO\n",
      "error in  PAYTM\n",
      "error in  ORIENTELEC\n",
      "error in  POLICYBZR\n",
      "error in  PCBL\n",
      "error in  PATANJALI\n",
      "error in  POLYCAB\n",
      "error in  POONAWALLA\n",
      "error in  PRINCEPIPE\n",
      "error in  RHIM\n",
      "error in  RITES\n",
      "error in  RVNL\n",
      "error in  RAINBOW\n",
      "error in  RTNINDIA\n",
      "error in  RBA\n",
      "error in  ROSSARI\n",
      "error in  ROUTE\n",
      "error in  SBICARD\n",
      "error in  SAPPHIRE\n",
      "error in  SHYAMMETL\n",
      "error in  SONACOMS\n",
      "error in  STARHEALTH\n",
      "error in  SWSOLAR\n",
      "error in  SUMICHEM\n",
      "error in  SUVENPHAR\n",
      "error in  TCNSBRANDS\n",
      "error in  TATAMTRDVR\n",
      "error in  UNOMINDA\n",
      "error in  UTIAMC\n",
      "error in  VARROC\n",
      "error in  MANYAVAR\n",
      "error in  VIJAYA\n",
      "error in  ZFCVINDIA\n",
      "error in  ZOMATO\n"
     ]
    }
   ],
   "source": [
    "df = []\n",
    "for t in tickers:\n",
    "    try:\n",
    "        aa = analysis(t)\n",
    "#         print(aa)\n",
    "        df.append([t,aa])\n",
    "    except:\n",
    "        print(\"error in \",t)"
   ]
  },
  {
   "cell_type": "code",
   "execution_count": 40,
   "id": "6d64df7b",
   "metadata": {},
   "outputs": [],
   "source": [
    "#20may 20july\n",
    "#4aug 16oct\n",
    "#RELIANCE\n",
    "df = pd.DataFrame(df,columns=['ticker','sharpe'])"
   ]
  },
  {
   "cell_type": "code",
   "execution_count": 43,
   "id": "d1ac6bf9",
   "metadata": {},
   "outputs": [
    {
     "data": {
      "text/html": [
       "<div>\n",
       "<style scoped>\n",
       "    .dataframe tbody tr th:only-of-type {\n",
       "        vertical-align: middle;\n",
       "    }\n",
       "\n",
       "    .dataframe tbody tr th {\n",
       "        vertical-align: top;\n",
       "    }\n",
       "\n",
       "    .dataframe thead th {\n",
       "        text-align: right;\n",
       "    }\n",
       "</style>\n",
       "<table border=\"1\" class=\"dataframe\">\n",
       "  <thead>\n",
       "    <tr style=\"text-align: right;\">\n",
       "      <th></th>\n",
       "      <th>ticker</th>\n",
       "      <th>sharpe</th>\n",
       "    </tr>\n",
       "  </thead>\n",
       "  <tbody>\n",
       "    <tr>\n",
       "      <th>3</th>\n",
       "      <td>AIAENG</td>\n",
       "      <td>0.201816</td>\n",
       "    </tr>\n",
       "    <tr>\n",
       "      <th>6</th>\n",
       "      <td>AARTIDRUGS</td>\n",
       "      <td>0.458281</td>\n",
       "    </tr>\n",
       "    <tr>\n",
       "      <th>7</th>\n",
       "      <td>ABBOTINDIA</td>\n",
       "      <td>0.220198</td>\n",
       "    </tr>\n",
       "    <tr>\n",
       "      <th>8</th>\n",
       "      <td>ADANIENT</td>\n",
       "      <td>0.392224</td>\n",
       "    </tr>\n",
       "    <tr>\n",
       "      <th>13</th>\n",
       "      <td>ABFRL</td>\n",
       "      <td>0.084654</td>\n",
       "    </tr>\n",
       "    <tr>\n",
       "      <th>...</th>\n",
       "      <td>...</td>\n",
       "      <td>...</td>\n",
       "    </tr>\n",
       "    <tr>\n",
       "      <th>377</th>\n",
       "      <td>UCOBANK</td>\n",
       "      <td>0.517685</td>\n",
       "    </tr>\n",
       "    <tr>\n",
       "      <th>381</th>\n",
       "      <td>UNIONBANK</td>\n",
       "      <td>0.404061</td>\n",
       "    </tr>\n",
       "    <tr>\n",
       "      <th>391</th>\n",
       "      <td>VINATIORGA</td>\n",
       "      <td>0.317449</td>\n",
       "    </tr>\n",
       "    <tr>\n",
       "      <th>396</th>\n",
       "      <td>WESTLIFE</td>\n",
       "      <td>0.232157</td>\n",
       "    </tr>\n",
       "    <tr>\n",
       "      <th>397</th>\n",
       "      <td>WHIRLPOOL</td>\n",
       "      <td>0.629986</td>\n",
       "    </tr>\n",
       "  </tbody>\n",
       "</table>\n",
       "<p>144 rows × 2 columns</p>\n",
       "</div>"
      ],
      "text/plain": [
       "         ticker    sharpe\n",
       "3        AIAENG  0.201816\n",
       "6    AARTIDRUGS  0.458281\n",
       "7    ABBOTINDIA  0.220198\n",
       "8      ADANIENT  0.392224\n",
       "13        ABFRL  0.084654\n",
       "..          ...       ...\n",
       "377     UCOBANK  0.517685\n",
       "381   UNIONBANK  0.404061\n",
       "391  VINATIORGA  0.317449\n",
       "396    WESTLIFE  0.232157\n",
       "397   WHIRLPOOL  0.629986\n",
       "\n",
       "[144 rows x 2 columns]"
      ]
     },
     "execution_count": 43,
     "metadata": {},
     "output_type": "execute_result"
    }
   ],
   "source": [
    "df[df.sharpe>0]"
   ]
  },
  {
   "cell_type": "code",
   "execution_count": 53,
   "id": "791d94c1",
   "metadata": {},
   "outputs": [
    {
     "data": {
      "text/html": [
       "<div>\n",
       "<style scoped>\n",
       "    .dataframe tbody tr th:only-of-type {\n",
       "        vertical-align: middle;\n",
       "    }\n",
       "\n",
       "    .dataframe tbody tr th {\n",
       "        vertical-align: top;\n",
       "    }\n",
       "\n",
       "    .dataframe thead th {\n",
       "        text-align: right;\n",
       "    }\n",
       "</style>\n",
       "<table border=\"1\" class=\"dataframe\">\n",
       "  <thead>\n",
       "    <tr style=\"text-align: right;\">\n",
       "      <th></th>\n",
       "      <th>ticker</th>\n",
       "      <th>sharpe</th>\n",
       "    </tr>\n",
       "  </thead>\n",
       "  <tbody>\n",
       "    <tr>\n",
       "      <th>0</th>\n",
       "      <td>3MINDIA</td>\n",
       "      <td>-0.105023</td>\n",
       "    </tr>\n",
       "    <tr>\n",
       "      <th>1</th>\n",
       "      <td>ABB</td>\n",
       "      <td>-0.140068</td>\n",
       "    </tr>\n",
       "    <tr>\n",
       "      <th>2</th>\n",
       "      <td>ACC</td>\n",
       "      <td>-0.009334</td>\n",
       "    </tr>\n",
       "    <tr>\n",
       "      <th>4</th>\n",
       "      <td>APLAPOLLO</td>\n",
       "      <td>-0.222660</td>\n",
       "    </tr>\n",
       "    <tr>\n",
       "      <th>5</th>\n",
       "      <td>AUBANK</td>\n",
       "      <td>-0.155947</td>\n",
       "    </tr>\n",
       "    <tr>\n",
       "      <th>...</th>\n",
       "      <td>...</td>\n",
       "      <td>...</td>\n",
       "    </tr>\n",
       "    <tr>\n",
       "      <th>401</th>\n",
       "      <td>ZEEL</td>\n",
       "      <td>-0.105702</td>\n",
       "    </tr>\n",
       "    <tr>\n",
       "      <th>402</th>\n",
       "      <td>ZENSARTECH</td>\n",
       "      <td>-0.221090</td>\n",
       "    </tr>\n",
       "    <tr>\n",
       "      <th>403</th>\n",
       "      <td>ZYDUSLIFE</td>\n",
       "      <td>-0.482735</td>\n",
       "    </tr>\n",
       "    <tr>\n",
       "      <th>404</th>\n",
       "      <td>ZYDUSWELL</td>\n",
       "      <td>-0.076765</td>\n",
       "    </tr>\n",
       "    <tr>\n",
       "      <th>405</th>\n",
       "      <td>ECLERX</td>\n",
       "      <td>-0.011715</td>\n",
       "    </tr>\n",
       "  </tbody>\n",
       "</table>\n",
       "<p>261 rows × 2 columns</p>\n",
       "</div>"
      ],
      "text/plain": [
       "         ticker    sharpe\n",
       "0       3MINDIA -0.105023\n",
       "1           ABB -0.140068\n",
       "2           ACC -0.009334\n",
       "4     APLAPOLLO -0.222660\n",
       "5        AUBANK -0.155947\n",
       "..          ...       ...\n",
       "401        ZEEL -0.105702\n",
       "402  ZENSARTECH -0.221090\n",
       "403   ZYDUSLIFE -0.482735\n",
       "404   ZYDUSWELL -0.076765\n",
       "405      ECLERX -0.011715\n",
       "\n",
       "[261 rows x 2 columns]"
      ]
     },
     "execution_count": 53,
     "metadata": {},
     "output_type": "execute_result"
    }
   ],
   "source": [
    "df[df.sharpe < 0]"
   ]
  },
  {
   "cell_type": "code",
   "execution_count": 129,
   "id": "d74e568d",
   "metadata": {},
   "outputs": [],
   "source": [
    "data = pd.read_csv(\"1hr/TCS.csv\")\n",
    "data['Date'] = pd.to_datetime(data['Date'])\n"
   ]
  },
  {
   "cell_type": "code",
   "execution_count": 132,
   "id": "d01fdbb4",
   "metadata": {},
   "outputs": [
    {
     "data": {
      "text/plain": [
       "[1014, 2425, 4008, 4419, 4420]"
      ]
     },
     "execution_count": 132,
     "metadata": {},
     "output_type": "execute_result"
    }
   ],
   "source": [
    "\n",
    "x"
   ]
  },
  {
   "cell_type": "code",
   "execution_count": 135,
   "id": "c3742615",
   "metadata": {},
   "outputs": [],
   "source": []
  },
  {
   "cell_type": "code",
   "execution_count": 134,
   "id": "40911d4f",
   "metadata": {},
   "outputs": [
    {
     "data": {
      "text/html": [
       "<div>\n",
       "<style scoped>\n",
       "    .dataframe tbody tr th:only-of-type {\n",
       "        vertical-align: middle;\n",
       "    }\n",
       "\n",
       "    .dataframe tbody tr th {\n",
       "        vertical-align: top;\n",
       "    }\n",
       "\n",
       "    .dataframe thead th {\n",
       "        text-align: right;\n",
       "    }\n",
       "</style>\n",
       "<table border=\"1\" class=\"dataframe\">\n",
       "  <thead>\n",
       "    <tr style=\"text-align: right;\">\n",
       "      <th></th>\n",
       "      <th>Date</th>\n",
       "      <th>Open</th>\n",
       "      <th>High</th>\n",
       "      <th>Low</th>\n",
       "      <th>Close</th>\n",
       "      <th>Volume</th>\n",
       "    </tr>\n",
       "  </thead>\n",
       "  <tbody>\n",
       "    <tr>\n",
       "      <th>0</th>\n",
       "      <td>2018-03-01 10:00:00</td>\n",
       "      <td>1524.50</td>\n",
       "      <td>1524.93</td>\n",
       "      <td>1510.00</td>\n",
       "      <td>1511.00</td>\n",
       "      <td>105228</td>\n",
       "    </tr>\n",
       "    <tr>\n",
       "      <th>1</th>\n",
       "      <td>2018-03-01 11:00:00</td>\n",
       "      <td>1511.00</td>\n",
       "      <td>1520.10</td>\n",
       "      <td>1510.95</td>\n",
       "      <td>1519.62</td>\n",
       "      <td>42746</td>\n",
       "    </tr>\n",
       "    <tr>\n",
       "      <th>2</th>\n",
       "      <td>2018-03-01 12:00:00</td>\n",
       "      <td>1519.62</td>\n",
       "      <td>1520.03</td>\n",
       "      <td>1516.32</td>\n",
       "      <td>1519.85</td>\n",
       "      <td>27285</td>\n",
       "    </tr>\n",
       "    <tr>\n",
       "      <th>3</th>\n",
       "      <td>2018-03-01 13:00:00</td>\n",
       "      <td>1519.90</td>\n",
       "      <td>1525.00</td>\n",
       "      <td>1519.62</td>\n",
       "      <td>1524.97</td>\n",
       "      <td>58981</td>\n",
       "    </tr>\n",
       "    <tr>\n",
       "      <th>4</th>\n",
       "      <td>2018-03-01 14:00:00</td>\n",
       "      <td>1524.88</td>\n",
       "      <td>1530.07</td>\n",
       "      <td>1523.50</td>\n",
       "      <td>1523.50</td>\n",
       "      <td>86609</td>\n",
       "    </tr>\n",
       "    <tr>\n",
       "      <th>...</th>\n",
       "      <td>...</td>\n",
       "      <td>...</td>\n",
       "      <td>...</td>\n",
       "      <td>...</td>\n",
       "      <td>...</td>\n",
       "      <td>...</td>\n",
       "    </tr>\n",
       "    <tr>\n",
       "      <th>4434</th>\n",
       "      <td>2021-03-01 11:00:00</td>\n",
       "      <td>2951.75</td>\n",
       "      <td>2965.00</td>\n",
       "      <td>2946.70</td>\n",
       "      <td>2948.95</td>\n",
       "      <td>363940</td>\n",
       "    </tr>\n",
       "    <tr>\n",
       "      <th>4435</th>\n",
       "      <td>2021-03-01 12:00:00</td>\n",
       "      <td>2948.45</td>\n",
       "      <td>2948.95</td>\n",
       "      <td>2903.55</td>\n",
       "      <td>2916.85</td>\n",
       "      <td>545675</td>\n",
       "    </tr>\n",
       "    <tr>\n",
       "      <th>4436</th>\n",
       "      <td>2021-03-01 13:00:00</td>\n",
       "      <td>2917.95</td>\n",
       "      <td>2919.00</td>\n",
       "      <td>2901.80</td>\n",
       "      <td>2911.50</td>\n",
       "      <td>317690</td>\n",
       "    </tr>\n",
       "    <tr>\n",
       "      <th>4437</th>\n",
       "      <td>2021-03-01 14:00:00</td>\n",
       "      <td>2911.50</td>\n",
       "      <td>2923.20</td>\n",
       "      <td>2906.55</td>\n",
       "      <td>2907.05</td>\n",
       "      <td>363471</td>\n",
       "    </tr>\n",
       "    <tr>\n",
       "      <th>4438</th>\n",
       "      <td>2021-03-01 15:00:00</td>\n",
       "      <td>2907.05</td>\n",
       "      <td>2928.30</td>\n",
       "      <td>2904.00</td>\n",
       "      <td>2927.70</td>\n",
       "      <td>484419</td>\n",
       "    </tr>\n",
       "  </tbody>\n",
       "</table>\n",
       "<p>4439 rows × 6 columns</p>\n",
       "</div>"
      ],
      "text/plain": [
       "                    Date     Open     High      Low    Close  Volume\n",
       "0    2018-03-01 10:00:00  1524.50  1524.93  1510.00  1511.00  105228\n",
       "1    2018-03-01 11:00:00  1511.00  1520.10  1510.95  1519.62   42746\n",
       "2    2018-03-01 12:00:00  1519.62  1520.03  1516.32  1519.85   27285\n",
       "3    2018-03-01 13:00:00  1519.90  1525.00  1519.62  1524.97   58981\n",
       "4    2018-03-01 14:00:00  1524.88  1530.07  1523.50  1523.50   86609\n",
       "...                  ...      ...      ...      ...      ...     ...\n",
       "4434 2021-03-01 11:00:00  2951.75  2965.00  2946.70  2948.95  363940\n",
       "4435 2021-03-01 12:00:00  2948.45  2948.95  2903.55  2916.85  545675\n",
       "4436 2021-03-01 13:00:00  2917.95  2919.00  2901.80  2911.50  317690\n",
       "4437 2021-03-01 14:00:00  2911.50  2923.20  2906.55  2907.05  363471\n",
       "4438 2021-03-01 15:00:00  2907.05  2928.30  2904.00  2927.70  484419\n",
       "\n",
       "[4439 rows x 6 columns]"
      ]
     },
     "execution_count": 134,
     "metadata": {},
     "output_type": "execute_result"
    }
   ],
   "source": [
    "data"
   ]
  },
  {
   "cell_type": "code",
   "execution_count": null,
   "id": "4c9f750c",
   "metadata": {},
   "outputs": [],
   "source": []
  }
 ],
 "metadata": {
  "kernelspec": {
   "display_name": "Python 3 (ipykernel)",
   "language": "python",
   "name": "python3"
  },
  "language_info": {
   "codemirror_mode": {
    "name": "ipython",
    "version": 3
   },
   "file_extension": ".py",
   "mimetype": "text/x-python",
   "name": "python",
   "nbconvert_exporter": "python",
   "pygments_lexer": "ipython3",
   "version": "3.7.11"
  }
 },
 "nbformat": 4,
 "nbformat_minor": 5
}

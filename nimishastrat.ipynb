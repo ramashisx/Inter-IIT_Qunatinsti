{
 "cells": [
  {
   "cell_type": "code",
   "execution_count": 131,
   "id": "8e151561",
   "metadata": {},
   "outputs": [],
   "source": [
    "import backtrader as bt\n",
    "from backtester import backtest15,backtestday,backtest1hr\n",
    "import numpy as np\n",
    "                    \n",
    "import pandas as pd\n",
    "\n",
    "import logging\n",
    "logging.basicConfig(filename=\"log.txt\", level=logging.DEBUG)"
   ]
  },
  {
   "cell_type": "code",
   "execution_count": 133,
   "id": "c863c71d",
   "metadata": {},
   "outputs": [],
   "source": [
    "pnl = np.array([])"
   ]
  },
  {
   "cell_type": "code",
   "execution_count": 134,
   "id": "dc09f08b",
   "metadata": {},
   "outputs": [],
   "source": [
    "# pnl=np.array([])\n",
    "class Nimisha(bt.Strategy):\n",
    "    \n",
    "    def __init__(self):\n",
    "        self.lookback=15\n",
    "        \n",
    "    def log(self, txt):\n",
    "        date = self.data.datetime.date(0)\n",
    "        time = self.data.datetime.time()\n",
    "        logging.debug('%s-%s, %s' % (date.isoformat(), time, txt))\n",
    "\n",
    "#     def get_pnl(self):\n",
    "#         return self.pnl\n",
    "\n",
    "    def notify_order(self, order):\n",
    "\n",
    "        if order.status in [order.Submitted, order.Accepted]:\n",
    "            return\n",
    "\n",
    "        if order.status in [order.Completed]:\n",
    "            if order.isbuy():\n",
    "                self.log(\"Buy EXECUTED {}\".format(order.executed.price))\n",
    "            elif order.issell():\n",
    "                self.log(\"Sell EXECUTED {}\".format(order.executed.price))\n",
    "\n",
    "    def next(self):\n",
    "        ohlc1 = (self.data.close[-1]+self.data.high[-1]+self.data.low[-1]+self.data.open[-1])/4\n",
    "        ohlc2 = (self.data.close[-2]+self.data.high[-2]+self.data.low[-2]+self.data.open[-2])/4\n",
    "        ohlc3 = (self.data.close[-3]+self.data.high[-3]+self.data.low[-3]+self.data.open[-3])/4\n",
    "        ohlc = self.data.close.get(size=self.lookback,ago=-1)+self.data.high.get(size=self.lookback,ago=-1)+self.data.low.get(size=self.lookback,ago=-1)+self.data.open.get(size=self.lookback,ago=-1)\n",
    "        ohlc = np.array(ohlc)\n",
    "        ohlc/=4\n",
    "        std = np.array(ohlc).std()\n",
    "        cond1 = ohlc1>ohlc2 and ohlc2>ohlc3\n",
    "        cond2 = (ohlc1>ohlc2+std/2)\n",
    "        cond3 = self.data.high[-1]<self.data.close[0]\n",
    "        lcond = (cond1 or cond2) and cond3\n",
    "        if(lcond):\n",
    "            if(self.data.high[0]>self.data.open[0]*1.005):\n",
    "                pnl = np.append(pnl,self.data.open[0]*0.005)\n",
    "            else:\n",
    "                pnl = np.append(pnl,self.data.close[0]-self.data.open[0])"
   ]
  },
  {
   "cell_type": "code",
   "execution_count": 136,
   "id": "a40fd47b",
   "metadata": {},
   "outputs": [],
   "source": [
    "def analysis(data):\n",
    "    pnl=np.array([])\n",
    "    nim = Nimisha()\n",
    "    try:\n",
    "        backtest1hr(data, nim)\n",
    "    except:\n",
    "        pass\n",
    "#     pnl = np.array(pnl)\n",
    "\n",
    "#     aa = nim.get_pnl()\n",
    "    aa = pnl\n",
    "    return aa.sum(), len(aa),len(aa[aa>0]),len(aa[aa<0])"
   ]
  },
  {
   "cell_type": "code",
   "execution_count": 137,
   "id": "00cf2897",
   "metadata": {},
   "outputs": [
    {
     "name": "stdout",
     "output_type": "stream",
     "text": [
      "<backtester.dataFeed object at 0x7f9217112510>\n",
      "Starting Portfolio Value: 100000.00\n"
     ]
    },
    {
     "data": {
      "text/plain": [
       "(0.0, 0, 0, 0)"
      ]
     },
     "execution_count": 137,
     "metadata": {},
     "output_type": "execute_result"
    }
   ],
   "source": [
    "analysis('RELIANCE')"
   ]
  },
  {
   "cell_type": "code",
   "execution_count": 138,
   "id": "dd220f9a",
   "metadata": {},
   "outputs": [],
   "source": []
  },
  {
   "cell_type": "code",
   "execution_count": 139,
   "id": "ead61680",
   "metadata": {},
   "outputs": [
    {
     "ename": "IndentationError",
     "evalue": "expected an indented block (1763208468.py, line 3)",
     "output_type": "error",
     "traceback": [
      "\u001b[0;36m  File \u001b[0;32m\"/var/folders/yy/95rx0nm12jqc32p5svcxxv7h0000gn/T/ipykernel_68209/1763208468.py\"\u001b[0;36m, line \u001b[0;32m3\u001b[0m\n\u001b[0;31m    analysis()\u001b[0m\n\u001b[0m           ^\u001b[0m\n\u001b[0;31mIndentationError\u001b[0m\u001b[0;31m:\u001b[0m expected an indented block\n"
     ]
    }
   ],
   "source": []
  },
  {
   "cell_type": "code",
   "execution_count": 50,
   "id": "0027c558",
   "metadata": {},
   "outputs": [
    {
     "data": {
      "text/plain": [
       "2995.8052500000003"
      ]
     },
     "execution_count": 50,
     "metadata": {},
     "output_type": "execute_result"
    }
   ],
   "source": [
    "pnl.sum()"
   ]
  },
  {
   "cell_type": "code",
   "execution_count": 51,
   "id": "4bf7395b",
   "metadata": {},
   "outputs": [
    {
     "data": {
      "text/plain": [
       "array([  4.51   ,   4.53425,   0.35   ,   4.57375,   4.6225 ,   4.486  ,\n",
       "         4.4825 ,   2.95   ,  -0.6    ,   4.4775 ,   4.451  ,   4.474  ,\n",
       "         4.5235 ,   4.54   ,   0.6    ,   1.85   ,   2.3    ,   2.95   ,\n",
       "         4.7    ,   4.65   ,   4.67125,   4.725  ,   4.81575,   4.99525,\n",
       "        -1.4    ,  -2.65   ,   4.86525,   4.897  ,   4.91525,  -0.8    ,\n",
       "        -2.55   ,   4.5715 ,   4.6    ,   4.6255 ,   4.667  ,   3.     ,\n",
       "         2.65   ,   4.55   ,   4.8675 ,   4.9355 ,   2.5    ,   2.15   ,\n",
       "         4.9945 ,   3.05   ,   4.9765 ,   5.03   ,   5.007  ,   3.95   ,\n",
       "         3.65   ,   4.806  ,   4.835  ,   4.859  ,   1.15   ,   4.92475,\n",
       "         4.985  ,   5.01375,   3.9    ,   2.8    ,   5.1665 ,   5.22175,\n",
       "         4.15   ,   5.32475,   5.44125,   5.4815 ,   5.42775,   5.492  ,\n",
       "         5.4665 ,   5.567  ,   5.58075,   2.35   ,   5.65   ,   5.69925,\n",
       "         5.755  ,   5.82325,   5.889  ,   5.952  ,   5.8835 ,   5.90575,\n",
       "         3.9    ,   5.9685 ,   4.7    ,   0.25   ,   6.0125 ,   6.034  ,\n",
       "         6.1075 ,   5.9675 ,   1.65   ,   1.2    ,   3.35   ,   6.165  ,\n",
       "         1.85   ,   2.55   ,   6.29525,   1.05   ,   2.65   ,   6.397  ,\n",
       "         3.1    ,   6.513  ,   6.5735 ,   3.25   ,   6.226  ,   6.15075,\n",
       "         6.17875,   6.2095 ,   6.3245 ,   6.35475,   3.95   ,   6.297  ,\n",
       "         6.13825,   6.1075 ,   6.1775 ,   6.17475,   6.209  ,   6.2995 ,\n",
       "         6.1185 ,   5.37075,   5.41325,   5.6495 ,   5.72875,   5.765  ,\n",
       "         4.55   ,  -4.     ,   5.15   ,   5.22775,   5.29775,   5.34175,\n",
       "         1.75   ,   5.36575,   5.3315 ,   5.381  ,   2.9    ,   5.47   ,\n",
       "         5.41725,   1.75   ,   5.45225,   2.5    ,   5.48975,   5.6065 ,\n",
       "         5.72   ,   5.5385 ,   5.5395 ,   5.58125,   1.5    ,   4.8    ,\n",
       "         2.     ,   4.1    ,   5.724  ,   5.805  ,   3.45   ,   5.7405 ,\n",
       "         5.3755 ,   5.39925,   5.44775, -10.05   ,   5.57975,   4.75   ,\n",
       "         0.85   ,   3.     ,   5.645  ,   2.45   ,   5.7075 ,   5.371  ,\n",
       "         5.45775,   5.536  ,   5.461  ,   1.     ,   2.9    ,   5.525  ,\n",
       "         3.     ,   5.675  ,   5.744  ,   5.759  ,   5.79375,   5.8925 ,\n",
       "         5.97   ,   6.0735 ,   6.1175 ,   6.16425,   6.18625,   6.25225,\n",
       "         6.075  ,   6.06525,   6.17   ,   6.235  ,   6.35225,   6.44625,\n",
       "         6.5295 ,   6.12375,   6.1475 ,   6.17975,   6.2485 ,   6.18   ,\n",
       "         6.1185 ,   6.17675,   6.13   ,   6.15625,   6.199  ,   2.7    ,\n",
       "         6.2495 ,   6.275  ,   6.4225 ,   6.443  ,   6.5845 ,   6.60875,\n",
       "         6.6895 ,   6.74875,   6.81025,   6.8575 ,   3.1    ,   6.7715 ,\n",
       "         6.911  ,   6.15   ,   6.68975,   6.75   ,   6.725  ,   6.89175,\n",
       "         6.783  ,   6.815  ,   6.9045 ,   6.9455 ,   7.0165 ,   6.935  ,\n",
       "         6.96   ,   2.15   ,   7.03975,   5.2    ,   6.235  ,  -3.05   ,\n",
       "         5.25   ,   6.60475,   5.45   ,   6.607  ,   4.35   ,   1.45   ,\n",
       "         6.67625,   6.7095 ,   6.74625,   6.78725,   2.55   ,   4.55   ,\n",
       "         6.4475 ,   4.35   ,   6.39975,   6.43925,   6.355  ,   6.407  ,\n",
       "         6.36125,  -1.     ,   6.39975,   6.4295 ,   6.3575 ,   1.85   ,\n",
       "         5.8085 ,   5.91575,   5.5985 ,   5.80925,   3.85   ,   6.39   ,\n",
       "         6.2535 ,   6.296  ,   6.374  ,   6.36825,   6.18375,   6.034  ,\n",
       "         6.04975,   6.09075,   6.143  ,   6.09325,   5.88925,   6.1285 ,\n",
       "         6.42175,   6.452  ,   6.4625 ,   6.5355 ,   3.1    ,   6.611  ,\n",
       "         6.527  ,   6.546  ,   6.625  ,   4.9    ,   2.4    ,   6.1    ,\n",
       "         1.25   ,   6.937  ,   3.75   ,   7.03875,   6.992  ,   7.03325,\n",
       "         7.08975,  -5.5    ,   7.2275 ,   7.292  ,   7.339  ,   5.3    ,\n",
       "         4.25   ,  -2.05   ,   3.05   ,   7.2415 ,   7.15   ,   7.2435 ,\n",
       "         7.302  ,   2.2    ,   7.32825,   7.345  ,   7.373  ,   7.42975,\n",
       "         7.47525,   5.15   ,   7.86325, -13.85   ,   7.758  ,   7.8325 ,\n",
       "         4.15   ,   7.9    ,   5.9    ,   7.815  ,   7.83725,   7.8685 ,\n",
       "         7.65   ,   4.85   ,   6.15   ,   8.00775,   7.6775 ,   7.6895 ,\n",
       "         7.61   ,   7.6445 ,   7.575  ,   7.69975,   3.75   ,   1.05   ,\n",
       "         3.75   ,   7.7675 ,   5.4    ,  -1.8    ,   7.     ,   7.086  ,\n",
       "         7.12225,   7.1745 ,   7.2385 ,   7.2775 ,   7.237  ,  -7.1    ,\n",
       "         3.55   ,   7.39675,   7.47175,   5.21575,   4.735  ,   4.81125,\n",
       "         4.93775,   4.6195 ,   4.66025,   4.819  ,   5.03   ,   5.125  ,\n",
       "         5.159  ,   5.34925,   5.42625,   5.535  ,   5.3385 ,   5.6485 ,\n",
       "         5.76325,   5.779  ,   5.87425,   5.89275,   5.9    ,   6.08975,\n",
       "         6.03   ,   6.6    ,   6.6565 ,   6.80525,   6.97725,   7.19875,\n",
       "         7.23675,   7.34375,   7.3375 ,   7.35075,   7.44   ,  -2.     ,\n",
       "         7.7145 ,   7.81725,   7.28325,   7.27225,   7.175  ,   7.205  ,\n",
       "         7.14875,   7.1805 ,   7.275  ,   2.2    ,   7.3305 ,   7.4    ,\n",
       "         7.48425,   7.5705 ,   7.6405 ,   7.725  ,   7.76225,   7.8145 ,\n",
       "         7.83875,   7.975  ,   7.8125 ,   7.66325,   7.875  ,   7.9    ,\n",
       "       -10.     ,   8.16975,   8.2235 ,   8.35   ,   8.41775,   8.53925,\n",
       "         8.68225,  -3.15   ,   8.649  ,   8.67825,   4.8    ,   8.899  ,\n",
       "         9.025  ,   9.112  ,   9.1475 ,   9.16825,   9.232  ,   9.051  ,\n",
       "         9.1425 ,   9.20325,   9.28   ,   9.51675,   9.68975,   9.715  ,\n",
       "         9.475  ,   9.589  ,   9.695  ,   9.76875,   9.8265 ,   9.95   ,\n",
       "        10.01975,  10.08775,   4.55   ,  10.29   ,   4.4    ,  10.875  ,\n",
       "         3.95   ,  10.545  ,  10.268  ,  10.3445 ,  10.511  ,  10.58275,\n",
       "        10.845  ,  10.6945 ,  10.74375,  10.61275,  10.425  , -11.95   ,\n",
       "        10.665  ,  10.455  ,  10.57025,  10.605  , -24.2    ,  10.5145 ,\n",
       "        10.58375,  10.46   ,  10.542  ,  10.602  ,  10.73075,  10.9155 ,\n",
       "        11.06375,  11.155  ,  11.29725,  10.93975, -10.5    ,  11.08475,\n",
       "        11.175  ,  11.153  ,  11.34275,  10.53   ,  10.115  ,  10.1675 ,\n",
       "        10.18   ,   9.32825, -12.4    ,   9.95   ,  10.04425,  10.124  ,\n",
       "       -15.75   ,   9.65   , -14.1    ,  10.31425, -67.15   ,   9.936  ,\n",
       "         9.9    ,   6.1    ,   9.7425 ,  -6.25   ,  10.0585 ,   9.9225 ,\n",
       "         9.88725,  10.05   ,   4.3    ,   9.92   ,  10.0335 ,   9.9675 ,\n",
       "         9.87625,   9.566  ,   9.64625,   9.69975,   5.     ,   9.78   ,\n",
       "         9.84075,   9.97325,   4.9    ,  10.12875,   0.95   ,   6.45   ,\n",
       "        10.41   ,  10.514  ,   2.45   ,   9.366  ,   9.3785 ,   9.643  ,\n",
       "        -3.75   ,   9.778  ,   9.77075,   9.9    ,   4.65   ,  10.197  ,\n",
       "        10.2775 ,  10.25125,  10.2335 ,  10.265  ,  10.38   ,  10.61975,\n",
       "         5.9    ])"
      ]
     },
     "execution_count": 51,
     "metadata": {},
     "output_type": "execute_result"
    }
   ],
   "source": [
    "pnl"
   ]
  },
  {
   "cell_type": "code",
   "execution_count": 77,
   "id": "352d737d",
   "metadata": {},
   "outputs": [
    {
     "data": {
      "text/plain": [
       "array([3.])"
      ]
     },
     "execution_count": 77,
     "metadata": {},
     "output_type": "execute_result"
    }
   ],
   "source": [
    "a = np.array([])\n",
    "a = np.append(a,3)\n",
    "a"
   ]
  },
  {
   "cell_type": "code",
   "execution_count": 74,
   "id": "5d7d3596",
   "metadata": {},
   "outputs": [
    {
     "ename": "AttributeError",
     "evalue": "'numpy.ndarray' object has no attribute 'append'",
     "output_type": "error",
     "traceback": [
      "\u001b[0;31m---------------------------------------------------------------------------\u001b[0m",
      "\u001b[0;31mAttributeError\u001b[0m                            Traceback (most recent call last)",
      "\u001b[0;32m/var/folders/yy/95rx0nm12jqc32p5svcxxv7h0000gn/T/ipykernel_68209/1309286793.py\u001b[0m in \u001b[0;36m<module>\u001b[0;34m\u001b[0m\n\u001b[0;32m----> 1\u001b[0;31m \u001b[0ma\u001b[0m\u001b[0;34m.\u001b[0m\u001b[0mappend\u001b[0m\u001b[0;34m(\u001b[0m\u001b[0;36m3\u001b[0m\u001b[0;34m)\u001b[0m\u001b[0;34m\u001b[0m\u001b[0;34m\u001b[0m\u001b[0m\n\u001b[0m",
      "\u001b[0;31mAttributeError\u001b[0m: 'numpy.ndarray' object has no attribute 'append'"
     ]
    }
   ],
   "source": [
    "a.append(3)"
   ]
  },
  {
   "cell_type": "code",
   "execution_count": 187,
   "id": "abb30152",
   "metadata": {},
   "outputs": [],
   "source": [
    "def analysis(symbol):\n",
    "    data = pd.read_csv(\"1hr/\"+symbol+\".csv\")\n",
    "    lookback=14\n",
    "    sma = 40\n",
    "    data['ohlc'] = (data.High+data.Low+data.Close+data.Open)/4\n",
    "    pnl=[]\n",
    "    for i in range(sma+5,len(data)):\n",
    "        std = np.array(data.ohlc[i-lookback:i]).std()\n",
    "        ohlc1,ohlc2,ohlc3 = data.ohlc[i-1],data.ohlc[i-2],data.ohlc[i-3]\n",
    "        cond1 = ohlc1>ohlc2 and ohlc2>ohlc3\n",
    "        cond2 = (ohlc1>ohlc2+std/2)\n",
    "        cond3 = data.High[i-2]<data.Close[i-1]\n",
    "        sig1 = np.sum(data.Close[i-sma:i])>np.sum(data.Close[i-sma-1:i-1]) and np.sum(data.Close[i-sma-1:i-1])>np.sum(data.Close[i-2-sma:i-2])\n",
    "        lcond = (cond1 or cond2) and cond3 and sig1\n",
    "        if(lcond):\n",
    "            if(data.High[i]>data.Open[i]*1.005):\n",
    "                pnl.append(data.Open[i]*0.005)\n",
    "            else:\n",
    "                pnl.append(data.Close[i]-data.Open[i])\n",
    "    aa = np.array(pnl)\n",
    "    return aa"
   ]
  },
  {
   "cell_type": "code",
   "execution_count": 188,
   "id": "ffc39370",
   "metadata": {},
   "outputs": [],
   "source": [
    "tickers = pd.read_csv('nifties/nifty500.csv').Symbol"
   ]
  },
  {
   "cell_type": "code",
   "execution_count": null,
   "id": "46edb263",
   "metadata": {
    "scrolled": true
   },
   "outputs": [
    {
     "name": "stdout",
     "output_type": "stream",
     "text": [
      "error in  360ONE\n",
      "error in  AAVAS\n",
      "error in  ATGL\n",
      "error in  AWL\n",
      "error in  ABSLAMC\n",
      "error in  AETHER\n",
      "error in  AFFLE\n",
      "error in  ALOKINDS\n",
      "error in  ANGELONE\n",
      "error in  ANURAS\n",
      "error in  APTUS\n",
      "error in  BANDHANBNK\n",
      "error in  BDL\n",
      "error in  MAPMYINDIA\n",
      "error in  CAMPUS\n",
      "error in  CHALET\n",
      "error in  CHEMPLASTS\n",
      "error in  CLEAN\n",
      "error in  CREDITACC\n",
      "error in  DALBHARAT\n",
      "error in  DELHIVERY\n",
      "error in  DEVYANI\n",
      "error in  EASEMYTRIP\n",
      "error in  EQUITASBNK\n",
      "error in  NYKAA\n",
      "error in  FINEORG\n",
      "error in  GRINFRA\n",
      "error in  GLAND\n",
      "error in  GOCOLORS\n",
      "error in  GREENPANEL\n",
      "error in  FLUOROCHEM\n",
      "error in  HDFCAMC\n"
     ]
    }
   ],
   "source": [
    "df = []\n",
    "for t in tickers:\n",
    "    try:\n",
    "        aa = analysis(t)\n",
    "#         print(aa)\n",
    "        df.append([t,aa.sum(),len(aa),len(aa[aa>0]),len(aa[aa<0])])\n",
    "    except:\n",
    "        print(\"error in \",t)"
   ]
  },
  {
   "cell_type": "code",
   "execution_count": 181,
   "id": "4b5ccc3e",
   "metadata": {},
   "outputs": [],
   "source": [
    "df = pd.DataFrame(df,columns = ['Ticker','Totalpnl','trades','tradeswon','tradeslost'])"
   ]
  },
  {
   "cell_type": "code",
   "execution_count": 185,
   "id": "6cbd84ac",
   "metadata": {},
   "outputs": [
    {
     "data": {
      "text/plain": [
       "42"
      ]
     },
     "execution_count": 185,
     "metadata": {},
     "output_type": "execute_result"
    }
   ],
   "source": [
    "len(df[df.Totalpnl>0])"
   ]
  },
  {
   "cell_type": "code",
   "execution_count": 183,
   "id": "c8f08fe4",
   "metadata": {},
   "outputs": [
    {
     "data": {
      "text/html": [
       "<div>\n",
       "<style scoped>\n",
       "    .dataframe tbody tr th:only-of-type {\n",
       "        vertical-align: middle;\n",
       "    }\n",
       "\n",
       "    .dataframe tbody tr th {\n",
       "        vertical-align: top;\n",
       "    }\n",
       "\n",
       "    .dataframe thead th {\n",
       "        text-align: right;\n",
       "    }\n",
       "</style>\n",
       "<table border=\"1\" class=\"dataframe\">\n",
       "  <thead>\n",
       "    <tr style=\"text-align: right;\">\n",
       "      <th></th>\n",
       "      <th>Ticker</th>\n",
       "      <th>Totalpnl</th>\n",
       "      <th>trades</th>\n",
       "      <th>tradeswon</th>\n",
       "      <th>tradeslost</th>\n",
       "    </tr>\n",
       "  </thead>\n",
       "  <tbody>\n",
       "    <tr>\n",
       "      <th>0</th>\n",
       "      <td>3MINDIA</td>\n",
       "      <td>-3846.46950</td>\n",
       "      <td>389</td>\n",
       "      <td>218</td>\n",
       "      <td>167</td>\n",
       "    </tr>\n",
       "    <tr>\n",
       "      <th>1</th>\n",
       "      <td>ABB</td>\n",
       "      <td>-203.87975</td>\n",
       "      <td>360</td>\n",
       "      <td>193</td>\n",
       "      <td>163</td>\n",
       "    </tr>\n",
       "    <tr>\n",
       "      <th>2</th>\n",
       "      <td>ACC</td>\n",
       "      <td>-39.18050</td>\n",
       "      <td>423</td>\n",
       "      <td>235</td>\n",
       "      <td>188</td>\n",
       "    </tr>\n",
       "    <tr>\n",
       "      <th>3</th>\n",
       "      <td>AIAENG</td>\n",
       "      <td>-171.69875</td>\n",
       "      <td>373</td>\n",
       "      <td>222</td>\n",
       "      <td>148</td>\n",
       "    </tr>\n",
       "    <tr>\n",
       "      <th>4</th>\n",
       "      <td>APLAPOLLO</td>\n",
       "      <td>-52.62460</td>\n",
       "      <td>357</td>\n",
       "      <td>202</td>\n",
       "      <td>152</td>\n",
       "    </tr>\n",
       "    <tr>\n",
       "      <th>...</th>\n",
       "      <td>...</td>\n",
       "      <td>...</td>\n",
       "      <td>...</td>\n",
       "      <td>...</td>\n",
       "      <td>...</td>\n",
       "    </tr>\n",
       "    <tr>\n",
       "      <th>402</th>\n",
       "      <td>ZEEL</td>\n",
       "      <td>18.85950</td>\n",
       "      <td>371</td>\n",
       "      <td>238</td>\n",
       "      <td>131</td>\n",
       "    </tr>\n",
       "    <tr>\n",
       "      <th>403</th>\n",
       "      <td>ZENSARTECH</td>\n",
       "      <td>-44.30640</td>\n",
       "      <td>308</td>\n",
       "      <td>172</td>\n",
       "      <td>130</td>\n",
       "    </tr>\n",
       "    <tr>\n",
       "      <th>404</th>\n",
       "      <td>ZYDUSLIFE</td>\n",
       "      <td>-193.50300</td>\n",
       "      <td>361</td>\n",
       "      <td>181</td>\n",
       "      <td>177</td>\n",
       "    </tr>\n",
       "    <tr>\n",
       "      <th>405</th>\n",
       "      <td>ZYDUSWELL</td>\n",
       "      <td>-353.19400</td>\n",
       "      <td>314</td>\n",
       "      <td>157</td>\n",
       "      <td>156</td>\n",
       "    </tr>\n",
       "    <tr>\n",
       "      <th>406</th>\n",
       "      <td>ECLERX</td>\n",
       "      <td>-292.44965</td>\n",
       "      <td>270</td>\n",
       "      <td>128</td>\n",
       "      <td>135</td>\n",
       "    </tr>\n",
       "  </tbody>\n",
       "</table>\n",
       "<p>407 rows × 5 columns</p>\n",
       "</div>"
      ],
      "text/plain": [
       "         Ticker    Totalpnl  trades  tradeswon  tradeslost\n",
       "0       3MINDIA -3846.46950     389        218         167\n",
       "1           ABB  -203.87975     360        193         163\n",
       "2           ACC   -39.18050     423        235         188\n",
       "3        AIAENG  -171.69875     373        222         148\n",
       "4     APLAPOLLO   -52.62460     357        202         152\n",
       "..          ...         ...     ...        ...         ...\n",
       "402        ZEEL    18.85950     371        238         131\n",
       "403  ZENSARTECH   -44.30640     308        172         130\n",
       "404   ZYDUSLIFE  -193.50300     361        181         177\n",
       "405   ZYDUSWELL  -353.19400     314        157         156\n",
       "406      ECLERX  -292.44965     270        128         135\n",
       "\n",
       "[407 rows x 5 columns]"
      ]
     },
     "execution_count": 183,
     "metadata": {},
     "output_type": "execute_result"
    }
   ],
   "source": []
  },
  {
   "cell_type": "code",
   "execution_count": null,
   "id": "d9f0bb1b",
   "metadata": {},
   "outputs": [],
   "source": []
  }
 ],
 "metadata": {
  "kernelspec": {
   "display_name": "Python 3 (ipykernel)",
   "language": "python",
   "name": "python3"
  },
  "language_info": {
   "codemirror_mode": {
    "name": "ipython",
    "version": 3
   },
   "file_extension": ".py",
   "mimetype": "text/x-python",
   "name": "python",
   "nbconvert_exporter": "python",
   "pygments_lexer": "ipython3",
   "version": "3.7.11"
  }
 },
 "nbformat": 4,
 "nbformat_minor": 5
}
